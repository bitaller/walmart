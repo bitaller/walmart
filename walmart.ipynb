{
  "nbformat": 4,
  "nbformat_minor": 0,
  "metadata": {
    "colab": {
      "name": "walmart.ipynb",
      "version": "0.3.2",
      "provenance": [],
      "include_colab_link": true
    },
    "kernelspec": {
      "name": "python3",
      "display_name": "Python 3"
    }
  },
  "cells": [
    {
      "cell_type": "markdown",
      "metadata": {
        "id": "view-in-github",
        "colab_type": "text"
      },
      "source": [
        "<a href=\"https://colab.research.google.com/github/bitaller/walmart/blob/master/walmart.ipynb\" target=\"_parent\"><img src=\"https://colab.research.google.com/assets/colab-badge.svg\" alt=\"Open In Colab\"/></a>"
      ]
    },
    {
      "metadata": {
        "id": "7vXSpqAvLTFn",
        "colab_type": "text"
      },
      "cell_type": "markdown",
      "source": [
        "# Load and explore data\n",
        "Before we do anything, lets import some packages."
      ]
    },
    {
      "metadata": {
        "id": "Yz6IoiCYH2Vh",
        "colab_type": "code",
        "colab": {}
      },
      "cell_type": "code",
      "source": [
        "#Really need these\n",
        "import pandas as pd \n",
        "import numpy as np\n",
        "from numpy import *\n",
        "\n",
        "\n",
        "#Handy for debugging\n",
        "import gc\n",
        "import time\n",
        "import warnings\n",
        "import os\n",
        "\n",
        "#Date stuff\n",
        "from datetime import datetime\n",
        "from datetime import timedelta\n",
        "\n",
        "#Do some statistics\n",
        "from scipy.misc import imread\n",
        "from scipy import sparse\n",
        "import scipy.stats as ss\n",
        "import math\n",
        "\n",
        "#Nice graphing tools\n",
        "import matplotlib\n",
        "import matplotlib.pyplot as plt\n",
        "import seaborn as sns\n",
        "import plotly\n",
        "import plotly.offline as py\n",
        "import plotly.tools as tls\n",
        "import plotly.graph_objs as go\n",
        "import plotly.tools as tls\n",
        "\n",
        "#Machine learning tools\n",
        "from sklearn.ensemble import RandomForestRegressor\n",
        "from sklearn.utils.validation import check_X_y, check_is_fitted\n",
        "from sklearn.linear_model import LogisticRegression\n",
        "from sklearn import metrics\n",
        "from sklearn.metrics import log_loss\n",
        "from sklearn.model_selection import StratifiedKFold\n",
        "from sklearn.model_selection import train_test_split\n",
        "from sklearn.preprocessing import StandardScaler\n",
        "from sklearn.metrics import accuracy_score, confusion_matrix\n",
        "from scipy import sparse\n",
        "\n",
        "## Keras for deep learning\n",
        "import keras\n",
        "from keras.layers.core import Dense, Activation, Dropout\n",
        "from keras.layers.recurrent import LSTM\n",
        "from keras.layers import Bidirectional\n",
        "from keras.models import Sequential\n",
        "from keras import regularizers\n",
        "from keras import optimizers\n",
        "\n",
        "## Performance measures\n",
        "from sklearn.metrics import mean_squared_error"
      ],
      "execution_count": 0,
      "outputs": []
    },
    {
      "metadata": {
        "id": "9w99mxsBLfaY",
        "colab_type": "text"
      },
      "cell_type": "markdown",
      "source": [
        "# Prepare functions\n",
        "I initialize my functions in the beginning of the script to make the whole seem cleaner.."
      ]
    },
    {
      "metadata": {
        "id": "h_GEBs7mIDOG",
        "colab_type": "code",
        "colab": {}
      },
      "cell_type": "code",
      "source": [
        "#Merge info\n",
        "def mergeData(df):\n",
        "    features =pd.read_csv('walmart/dataset/features.csv')\n",
        "    storesdata =pd.read_csv('walmart/dataset/stores.csv')\n",
        "    df = pd.merge(df, features, on=['Store','Date','IsHoliday'],\n",
        "                  how='inner')\n",
        "    df = pd.merge(df, storesdata, on=['Store'],\n",
        "                  how='inner')\n",
        "    return df\n",
        "\n",
        "#http://scikit-learn.org/stable/auto_examples/plot_cv_predict.html\n",
        "def plot_prediction(predicted,true,desciption):\n",
        "    fig, ax = plt.subplots()\n",
        "    ax.scatter(true, predicted, edgecolors=(0, 0, 0))\n",
        "    ax.plot([true.min(), true.max()], [true.min(), true.max()], 'k--', lw=4)\n",
        "    ax.set_xlabel('Measured')\n",
        "    ax.set_ylabel('Predicted by '+desciption)\n",
        "    ax.plot([-30,30], [0,0], 'k-')   \n",
        "    ax.plot([0,0], [-30,30], 'k-')\n",
        "    plt.show()\n",
        "def binary(movement):\n",
        "    \"\"\"\n",
        "    Converts percent change to a binary 1 or 0, where 1 is an increase and 0 is a decrease/no change\n",
        "    \n",
        "    \"\"\"\n",
        "    #Empty arrays where a 1 represents an increase in price and a 0 represents a decrease in price\n",
        "    direction = np.empty(movement.shape[0])\n",
        "    #If the change in price is greater than zero, store it as a 1\n",
        "    #If the change in price is less than zero, store it as a 0\n",
        "    for i in range(movement.shape[0]):\n",
        "        if movement[i] > 0:\n",
        "            direction[i] = 1\n",
        "        else:\n",
        "            direction[i]= 0\n",
        "    return direction\n",
        "\n",
        "def scatterplots(feature, label):\n",
        "    x = feature\n",
        "    y = df['Weekly_Sales']\n",
        "    plt.scatter(x, y)\n",
        "    plt.ylabel('sales')\n",
        "    plt.xlabel(label)\n",
        "    plt.show()"
      ],
      "execution_count": 0,
      "outputs": []
    },
    {
      "metadata": {
        "id": "nfCvlLnrLnBi",
        "colab_type": "text"
      },
      "cell_type": "markdown",
      "source": [
        "Identify data sources"
      ]
    },
    {
      "metadata": {
        "id": "EWX9NHTTAMjS",
        "colab_type": "code",
        "colab": {
          "base_uri": "https://localhost:8080/",
          "height": 52
        },
        "outputId": "b5c9aafd-3256-4146-f596-a162496f71df"
      },
      "cell_type": "code",
      "source": [
        "!git clone https://github.com/bitaller/walmart.git\n",
        "!ls"
      ],
      "execution_count": 11,
      "outputs": [
        {
          "output_type": "stream",
          "text": [
            "fatal: destination path 'walmart' already exists and is not an empty directory.\n",
            "sample_data  walmart\n"
          ],
          "name": "stdout"
        }
      ]
    },
    {
      "metadata": {
        "id": "_PEPMhJEIFPt",
        "colab_type": "code",
        "colab": {
          "base_uri": "https://localhost:8080/",
          "height": 52
        },
        "outputId": "2f471d63-7714-44d2-b5b8-872ffaeaebd5"
      },
      "cell_type": "code",
      "source": [
        "print('Reading data...')\n",
        "print(os.listdir('walmart/dataset/'))"
      ],
      "execution_count": 12,
      "outputs": [
        {
          "output_type": "stream",
          "text": [
            "Reading data...\n",
            "['stores.csv', 'features.csv', 'test.csv', 'train.csv']\n"
          ],
          "name": "stdout"
        }
      ]
    },
    {
      "metadata": {
        "id": "1DDoT1UxLsA9",
        "colab_type": "text"
      },
      "cell_type": "markdown",
      "source": [
        "There are two competitions that have more or less the same data. Choose which competition to participate in. One or two. All comments are based on number two."
      ]
    },
    {
      "metadata": {
        "id": "82gt1k9AIIeF",
        "colab_type": "code",
        "colab": {
          "base_uri": "https://localhost:8080/",
          "height": 369
        },
        "outputId": "f93f83a9-b654-4894-df74-35f7ce721109"
      },
      "cell_type": "code",
      "source": [
        "dataSource = 1\n",
        "if dataSource==1:\n",
        "    train = mergeData(pd.read_csv('./walmart/dataset/train.csv'))\n",
        "    test = mergeData(pd.read_csv('./walmart/dataset/test.csv'))\n",
        "    train['Split'] = 'Train'\n",
        "    test['Split'] = 'Test'\n",
        "    print(test.head())\n",
        "else: \n",
        "    train = pd.read_csv('../input/course-material-walmart-challenge/train.csv')\n",
        "    test = pd.read_csv('../input/course-material-walmart-challenge/test.csv')\n",
        "    train['Split'] = 'Train'\n",
        "    test['Split'] = 'Test'\n",
        "    test.head()"
      ],
      "execution_count": 13,
      "outputs": [
        {
          "output_type": "stream",
          "text": [
            "   Store  Dept        Date  IsHoliday  Temperature  Fuel_Price  MarkDown1  \\\n",
            "0      1     1  2012-11-02      False        55.32       3.386    6766.44   \n",
            "1      1     2  2012-11-02      False        55.32       3.386    6766.44   \n",
            "2      1     3  2012-11-02      False        55.32       3.386    6766.44   \n",
            "3      1     4  2012-11-02      False        55.32       3.386    6766.44   \n",
            "4      1     5  2012-11-02      False        55.32       3.386    6766.44   \n",
            "\n",
            "   MarkDown2  MarkDown3  MarkDown4  MarkDown5         CPI  Unemployment Type  \\\n",
            "0     5147.7      50.82     3639.9    2737.42  223.462779         6.573    A   \n",
            "1     5147.7      50.82     3639.9    2737.42  223.462779         6.573    A   \n",
            "2     5147.7      50.82     3639.9    2737.42  223.462779         6.573    A   \n",
            "3     5147.7      50.82     3639.9    2737.42  223.462779         6.573    A   \n",
            "4     5147.7      50.82     3639.9    2737.42  223.462779         6.573    A   \n",
            "\n",
            "     Size Split  \n",
            "0  151315  Test  \n",
            "1  151315  Test  \n",
            "2  151315  Test  \n",
            "3  151315  Test  \n",
            "4  151315  Test  \n"
          ],
          "name": "stdout"
        }
      ]
    },
    {
      "metadata": {
        "id": "V1rBIZ-LLvmP",
        "colab_type": "text"
      },
      "cell_type": "markdown",
      "source": [
        "In order to efficiently modify our data, we merge the two datasets for now. We also keep track of the length of our training set so we know how to split it later."
      ]
    },
    {
      "metadata": {
        "id": "4LPXBUCjIJVc",
        "colab_type": "code",
        "colab": {
          "base_uri": "https://localhost:8080/",
          "height": 195
        },
        "outputId": "aa88b822-3910-4edb-bafa-bedb4ad9de8a"
      },
      "cell_type": "code",
      "source": [
        "t_len = len(train) # Get number of training examples\n",
        "df = pd.concat([train,test],axis=0) # Join train and test\n",
        "df.tail() # Get an overview of the data"
      ],
      "execution_count": 14,
      "outputs": [
        {
          "output_type": "execute_result",
          "data": {
            "text/html": [
              "<div>\n",
              "<style scoped>\n",
              "    .dataframe tbody tr th:only-of-type {\n",
              "        vertical-align: middle;\n",
              "    }\n",
              "\n",
              "    .dataframe tbody tr th {\n",
              "        vertical-align: top;\n",
              "    }\n",
              "\n",
              "    .dataframe thead th {\n",
              "        text-align: right;\n",
              "    }\n",
              "</style>\n",
              "<table border=\"1\" class=\"dataframe\">\n",
              "  <thead>\n",
              "    <tr style=\"text-align: right;\">\n",
              "      <th></th>\n",
              "      <th>CPI</th>\n",
              "      <th>Date</th>\n",
              "      <th>Dept</th>\n",
              "      <th>Fuel_Price</th>\n",
              "      <th>IsHoliday</th>\n",
              "      <th>MarkDown1</th>\n",
              "      <th>MarkDown2</th>\n",
              "      <th>MarkDown3</th>\n",
              "      <th>MarkDown4</th>\n",
              "      <th>MarkDown5</th>\n",
              "      <th>Size</th>\n",
              "      <th>Split</th>\n",
              "      <th>Store</th>\n",
              "      <th>Temperature</th>\n",
              "      <th>Type</th>\n",
              "      <th>Unemployment</th>\n",
              "      <th>Weekly_Sales</th>\n",
              "    </tr>\n",
              "  </thead>\n",
              "  <tbody>\n",
              "    <tr>\n",
              "      <th>115059</th>\n",
              "      <td>NaN</td>\n",
              "      <td>2013-07-26</td>\n",
              "      <td>93</td>\n",
              "      <td>3.804</td>\n",
              "      <td>False</td>\n",
              "      <td>212.02</td>\n",
              "      <td>851.73</td>\n",
              "      <td>2.06</td>\n",
              "      <td>10.88</td>\n",
              "      <td>1864.57</td>\n",
              "      <td>118221</td>\n",
              "      <td>Test</td>\n",
              "      <td>45</td>\n",
              "      <td>76.06</td>\n",
              "      <td>B</td>\n",
              "      <td>NaN</td>\n",
              "      <td>NaN</td>\n",
              "    </tr>\n",
              "    <tr>\n",
              "      <th>115060</th>\n",
              "      <td>NaN</td>\n",
              "      <td>2013-07-26</td>\n",
              "      <td>94</td>\n",
              "      <td>3.804</td>\n",
              "      <td>False</td>\n",
              "      <td>212.02</td>\n",
              "      <td>851.73</td>\n",
              "      <td>2.06</td>\n",
              "      <td>10.88</td>\n",
              "      <td>1864.57</td>\n",
              "      <td>118221</td>\n",
              "      <td>Test</td>\n",
              "      <td>45</td>\n",
              "      <td>76.06</td>\n",
              "      <td>B</td>\n",
              "      <td>NaN</td>\n",
              "      <td>NaN</td>\n",
              "    </tr>\n",
              "    <tr>\n",
              "      <th>115061</th>\n",
              "      <td>NaN</td>\n",
              "      <td>2013-07-26</td>\n",
              "      <td>95</td>\n",
              "      <td>3.804</td>\n",
              "      <td>False</td>\n",
              "      <td>212.02</td>\n",
              "      <td>851.73</td>\n",
              "      <td>2.06</td>\n",
              "      <td>10.88</td>\n",
              "      <td>1864.57</td>\n",
              "      <td>118221</td>\n",
              "      <td>Test</td>\n",
              "      <td>45</td>\n",
              "      <td>76.06</td>\n",
              "      <td>B</td>\n",
              "      <td>NaN</td>\n",
              "      <td>NaN</td>\n",
              "    </tr>\n",
              "    <tr>\n",
              "      <th>115062</th>\n",
              "      <td>NaN</td>\n",
              "      <td>2013-07-26</td>\n",
              "      <td>97</td>\n",
              "      <td>3.804</td>\n",
              "      <td>False</td>\n",
              "      <td>212.02</td>\n",
              "      <td>851.73</td>\n",
              "      <td>2.06</td>\n",
              "      <td>10.88</td>\n",
              "      <td>1864.57</td>\n",
              "      <td>118221</td>\n",
              "      <td>Test</td>\n",
              "      <td>45</td>\n",
              "      <td>76.06</td>\n",
              "      <td>B</td>\n",
              "      <td>NaN</td>\n",
              "      <td>NaN</td>\n",
              "    </tr>\n",
              "    <tr>\n",
              "      <th>115063</th>\n",
              "      <td>NaN</td>\n",
              "      <td>2013-07-26</td>\n",
              "      <td>98</td>\n",
              "      <td>3.804</td>\n",
              "      <td>False</td>\n",
              "      <td>212.02</td>\n",
              "      <td>851.73</td>\n",
              "      <td>2.06</td>\n",
              "      <td>10.88</td>\n",
              "      <td>1864.57</td>\n",
              "      <td>118221</td>\n",
              "      <td>Test</td>\n",
              "      <td>45</td>\n",
              "      <td>76.06</td>\n",
              "      <td>B</td>\n",
              "      <td>NaN</td>\n",
              "      <td>NaN</td>\n",
              "    </tr>\n",
              "  </tbody>\n",
              "</table>\n",
              "</div>"
            ],
            "text/plain": [
              "        CPI        Date  Dept  Fuel_Price  IsHoliday  MarkDown1  MarkDown2  \\\n",
              "115059  NaN  2013-07-26    93       3.804      False     212.02     851.73   \n",
              "115060  NaN  2013-07-26    94       3.804      False     212.02     851.73   \n",
              "115061  NaN  2013-07-26    95       3.804      False     212.02     851.73   \n",
              "115062  NaN  2013-07-26    97       3.804      False     212.02     851.73   \n",
              "115063  NaN  2013-07-26    98       3.804      False     212.02     851.73   \n",
              "\n",
              "        MarkDown3  MarkDown4  MarkDown5    Size Split  Store  Temperature  \\\n",
              "115059       2.06      10.88    1864.57  118221  Test     45        76.06   \n",
              "115060       2.06      10.88    1864.57  118221  Test     45        76.06   \n",
              "115061       2.06      10.88    1864.57  118221  Test     45        76.06   \n",
              "115062       2.06      10.88    1864.57  118221  Test     45        76.06   \n",
              "115063       2.06      10.88    1864.57  118221  Test     45        76.06   \n",
              "\n",
              "       Type  Unemployment  Weekly_Sales  \n",
              "115059    B           NaN           NaN  \n",
              "115060    B           NaN           NaN  \n",
              "115061    B           NaN           NaN  \n",
              "115062    B           NaN           NaN  \n",
              "115063    B           NaN           NaN  "
            ]
          },
          "metadata": {
            "tags": []
          },
          "execution_count": 14
        }
      ]
    },
    {
      "metadata": {
        "id": "05WMsEd-L5Dy",
        "colab_type": "text"
      },
      "cell_type": "markdown",
      "source": [
        "Let's get a clearer image of what our data actually looks like with the describe function. This will give use summary statistics of our numerical variables."
      ]
    },
    {
      "metadata": {
        "id": "UR52tGp9JGzZ",
        "colab_type": "code",
        "colab": {
          "base_uri": "https://localhost:8080/",
          "height": 304
        },
        "outputId": "4215514f-4466-4de9-f118-3868ab0754e9"
      },
      "cell_type": "code",
      "source": [
        "df.describe()"
      ],
      "execution_count": 15,
      "outputs": [
        {
          "output_type": "execute_result",
          "data": {
            "text/html": [
              "<div>\n",
              "<style scoped>\n",
              "    .dataframe tbody tr th:only-of-type {\n",
              "        vertical-align: middle;\n",
              "    }\n",
              "\n",
              "    .dataframe tbody tr th {\n",
              "        vertical-align: top;\n",
              "    }\n",
              "\n",
              "    .dataframe thead th {\n",
              "        text-align: right;\n",
              "    }\n",
              "</style>\n",
              "<table border=\"1\" class=\"dataframe\">\n",
              "  <thead>\n",
              "    <tr style=\"text-align: right;\">\n",
              "      <th></th>\n",
              "      <th>CPI</th>\n",
              "      <th>Dept</th>\n",
              "      <th>Fuel_Price</th>\n",
              "      <th>MarkDown1</th>\n",
              "      <th>MarkDown2</th>\n",
              "      <th>MarkDown3</th>\n",
              "      <th>MarkDown4</th>\n",
              "      <th>MarkDown5</th>\n",
              "      <th>Size</th>\n",
              "      <th>Store</th>\n",
              "      <th>Temperature</th>\n",
              "      <th>Unemployment</th>\n",
              "      <th>Weekly_Sales</th>\n",
              "    </tr>\n",
              "  </thead>\n",
              "  <tbody>\n",
              "    <tr>\n",
              "      <th>count</th>\n",
              "      <td>498472.000000</td>\n",
              "      <td>536634.000000</td>\n",
              "      <td>536634.000000</td>\n",
              "      <td>265596.000000</td>\n",
              "      <td>197685.000000</td>\n",
              "      <td>242326.000000</td>\n",
              "      <td>237143.000000</td>\n",
              "      <td>266496.000000</td>\n",
              "      <td>536634.00000</td>\n",
              "      <td>536634.000000</td>\n",
              "      <td>536634.000000</td>\n",
              "      <td>498472.000000</td>\n",
              "      <td>421570.000000</td>\n",
              "    </tr>\n",
              "    <tr>\n",
              "      <th>mean</th>\n",
              "      <td>172.090481</td>\n",
              "      <td>44.277301</td>\n",
              "      <td>3.408310</td>\n",
              "      <td>7438.004144</td>\n",
              "      <td>3509.274827</td>\n",
              "      <td>1857.913525</td>\n",
              "      <td>3371.556866</td>\n",
              "      <td>4324.021158</td>\n",
              "      <td>136678.55096</td>\n",
              "      <td>22.208621</td>\n",
              "      <td>58.771762</td>\n",
              "      <td>7.791888</td>\n",
              "      <td>15981.258123</td>\n",
              "    </tr>\n",
              "    <tr>\n",
              "      <th>std</th>\n",
              "      <td>39.542149</td>\n",
              "      <td>30.527358</td>\n",
              "      <td>0.430861</td>\n",
              "      <td>9411.341379</td>\n",
              "      <td>8992.047197</td>\n",
              "      <td>11616.143274</td>\n",
              "      <td>6872.281734</td>\n",
              "      <td>13549.262124</td>\n",
              "      <td>61007.71180</td>\n",
              "      <td>12.790580</td>\n",
              "      <td>18.678716</td>\n",
              "      <td>1.865076</td>\n",
              "      <td>22711.183519</td>\n",
              "    </tr>\n",
              "    <tr>\n",
              "      <th>min</th>\n",
              "      <td>126.064000</td>\n",
              "      <td>1.000000</td>\n",
              "      <td>2.472000</td>\n",
              "      <td>-2781.450000</td>\n",
              "      <td>-265.760000</td>\n",
              "      <td>-179.260000</td>\n",
              "      <td>0.220000</td>\n",
              "      <td>-185.170000</td>\n",
              "      <td>34875.00000</td>\n",
              "      <td>1.000000</td>\n",
              "      <td>-7.290000</td>\n",
              "      <td>3.684000</td>\n",
              "      <td>-4988.940000</td>\n",
              "    </tr>\n",
              "    <tr>\n",
              "      <th>25%</th>\n",
              "      <td>132.521867</td>\n",
              "      <td>18.000000</td>\n",
              "      <td>3.041000</td>\n",
              "      <td>2114.640000</td>\n",
              "      <td>72.500000</td>\n",
              "      <td>7.220000</td>\n",
              "      <td>336.240000</td>\n",
              "      <td>1570.112500</td>\n",
              "      <td>93638.00000</td>\n",
              "      <td>11.000000</td>\n",
              "      <td>45.250000</td>\n",
              "      <td>6.623000</td>\n",
              "      <td>2079.650000</td>\n",
              "    </tr>\n",
              "    <tr>\n",
              "      <th>50%</th>\n",
              "      <td>182.442420</td>\n",
              "      <td>37.000000</td>\n",
              "      <td>3.523000</td>\n",
              "      <td>5126.540000</td>\n",
              "      <td>385.310000</td>\n",
              "      <td>40.760000</td>\n",
              "      <td>1239.040000</td>\n",
              "      <td>2870.910000</td>\n",
              "      <td>140167.00000</td>\n",
              "      <td>22.000000</td>\n",
              "      <td>60.060000</td>\n",
              "      <td>7.795000</td>\n",
              "      <td>7612.030000</td>\n",
              "    </tr>\n",
              "    <tr>\n",
              "      <th>75%</th>\n",
              "      <td>213.748126</td>\n",
              "      <td>74.000000</td>\n",
              "      <td>3.744000</td>\n",
              "      <td>9303.850000</td>\n",
              "      <td>2392.390000</td>\n",
              "      <td>174.260000</td>\n",
              "      <td>3397.080000</td>\n",
              "      <td>5012.220000</td>\n",
              "      <td>202505.00000</td>\n",
              "      <td>33.000000</td>\n",
              "      <td>73.230000</td>\n",
              "      <td>8.549000</td>\n",
              "      <td>20205.852500</td>\n",
              "    </tr>\n",
              "    <tr>\n",
              "      <th>max</th>\n",
              "      <td>228.976456</td>\n",
              "      <td>99.000000</td>\n",
              "      <td>4.468000</td>\n",
              "      <td>103184.980000</td>\n",
              "      <td>104519.540000</td>\n",
              "      <td>149483.310000</td>\n",
              "      <td>67474.850000</td>\n",
              "      <td>771448.100000</td>\n",
              "      <td>219622.00000</td>\n",
              "      <td>45.000000</td>\n",
              "      <td>101.950000</td>\n",
              "      <td>14.313000</td>\n",
              "      <td>693099.360000</td>\n",
              "    </tr>\n",
              "  </tbody>\n",
              "</table>\n",
              "</div>"
            ],
            "text/plain": [
              "                 CPI           Dept     Fuel_Price      MarkDown1  \\\n",
              "count  498472.000000  536634.000000  536634.000000  265596.000000   \n",
              "mean      172.090481      44.277301       3.408310    7438.004144   \n",
              "std        39.542149      30.527358       0.430861    9411.341379   \n",
              "min       126.064000       1.000000       2.472000   -2781.450000   \n",
              "25%       132.521867      18.000000       3.041000    2114.640000   \n",
              "50%       182.442420      37.000000       3.523000    5126.540000   \n",
              "75%       213.748126      74.000000       3.744000    9303.850000   \n",
              "max       228.976456      99.000000       4.468000  103184.980000   \n",
              "\n",
              "           MarkDown2      MarkDown3      MarkDown4      MarkDown5  \\\n",
              "count  197685.000000  242326.000000  237143.000000  266496.000000   \n",
              "mean     3509.274827    1857.913525    3371.556866    4324.021158   \n",
              "std      8992.047197   11616.143274    6872.281734   13549.262124   \n",
              "min      -265.760000    -179.260000       0.220000    -185.170000   \n",
              "25%        72.500000       7.220000     336.240000    1570.112500   \n",
              "50%       385.310000      40.760000    1239.040000    2870.910000   \n",
              "75%      2392.390000     174.260000    3397.080000    5012.220000   \n",
              "max    104519.540000  149483.310000   67474.850000  771448.100000   \n",
              "\n",
              "               Size          Store    Temperature   Unemployment  \\\n",
              "count  536634.00000  536634.000000  536634.000000  498472.000000   \n",
              "mean   136678.55096      22.208621      58.771762       7.791888   \n",
              "std     61007.71180      12.790580      18.678716       1.865076   \n",
              "min     34875.00000       1.000000      -7.290000       3.684000   \n",
              "25%     93638.00000      11.000000      45.250000       6.623000   \n",
              "50%    140167.00000      22.000000      60.060000       7.795000   \n",
              "75%    202505.00000      33.000000      73.230000       8.549000   \n",
              "max    219622.00000      45.000000     101.950000      14.313000   \n",
              "\n",
              "        Weekly_Sales  \n",
              "count  421570.000000  \n",
              "mean    15981.258123  \n",
              "std     22711.183519  \n",
              "min     -4988.940000  \n",
              "25%      2079.650000  \n",
              "50%      7612.030000  \n",
              "75%     20205.852500  \n",
              "max    693099.360000  "
            ]
          },
          "metadata": {
            "tags": []
          },
          "execution_count": 15
        }
      ]
    },
    {
      "metadata": {
        "id": "12FJZJayMA4e",
        "colab_type": "text"
      },
      "cell_type": "markdown",
      "source": [
        "Since we are in the Netherlands, and we don't understand Fahrenheit, let's do a quick change there."
      ]
    },
    {
      "metadata": {
        "id": "fygEDkkmJKSR",
        "colab_type": "code",
        "colab": {}
      },
      "cell_type": "code",
      "source": [
        "df['Temperature'] = (df['Temperature'] - 32) * 5/9"
      ],
      "execution_count": 0,
      "outputs": []
    },
    {
      "metadata": {
        "id": "CWx4ReIpJLoY",
        "colab_type": "code",
        "colab": {
          "base_uri": "https://localhost:8080/",
          "height": 34
        },
        "outputId": "63159b92-876f-4308-d9be-40e4081c777d"
      },
      "cell_type": "code",
      "source": [
        "ls walmart"
      ],
      "execution_count": 17,
      "outputs": [
        {
          "output_type": "stream",
          "text": [
            "\u001b[0m\u001b[01;34mdataset\u001b[0m/  README.md  walmart.ipynb\n"
          ],
          "name": "stdout"
        }
      ]
    },
    {
      "metadata": {
        "id": "ijrxXcvmMMR7",
        "colab_type": "text"
      },
      "cell_type": "markdown",
      "source": [
        "Although there is not a large variety of variables, we can definitely work with this. In the next section, we will clean the data set, engineer some new features and add dummy variables. For now, let's try to find any obvious relations between our variables to get a feeling for the data. We begin with a correlation matrix."
      ]
    },
    {
      "metadata": {
        "id": "ETGIERIBJNti",
        "colab_type": "code",
        "colab": {
          "base_uri": "https://localhost:8080/",
          "height": 611
        },
        "outputId": "0503b5ce-5f49-4c18-a073-4ce53ed0b095"
      },
      "cell_type": "code",
      "source": [
        "# Code from https://seaborn.pydata.org/examples/many_pairwise_correlations.html\n",
        "sns.set(style=\"white\")\n",
        "\n",
        "# Compute the correlation matrix\n",
        "corr = df.corr()\n",
        "\n",
        "# Generate a mask for the upper triangle\n",
        "mask = np.zeros_like(corr, dtype=np.bool)\n",
        "mask[np.triu_indices_from(mask)] = True\n",
        "\n",
        "# Set up the matplotlib figure\n",
        "f, ax = plt.subplots(figsize=(11, 9))\n",
        "\n",
        "# Generate a custom diverging colormap\n",
        "cmap = sns.diverging_palette(220, 10, as_cmap=True)\n",
        "\n",
        "# Draw the heatmap with the mask and correct aspect ratio\n",
        "sns.heatmap(corr, mask=mask, cmap=cmap, vmax=.3, center=0,\n",
        "            square=True, linewidths=.5, cbar_kws={\"shrink\": .5})"
      ],
      "execution_count": 18,
      "outputs": [
        {
          "output_type": "execute_result",
          "data": {
            "text/plain": [
              "<matplotlib.axes._subplots.AxesSubplot at 0x7f19839f1b38>"
            ]
          },
          "metadata": {
            "tags": []
          },
          "execution_count": 18
        },
        {
          "output_type": "display_data",
          "data": {
            "image/png": "[encoded data removed]",
            "text/plain": [
              "<matplotlib.figure.Figure at 0x7f19bddf3e48>"
            ]
          },
          "metadata": {
            "tags": []
          }
        }
      ]
    },
    {
      "metadata": {
        "id": "PTpq0WHUMU7k",
        "colab_type": "text"
      },
      "cell_type": "markdown",
      "source": [
        "Most of what we see in the correlation table is of little surprise. Discounts are correlated and higher unemployment means lower Consumer Price Index. More interestingly, it appears that higher department numbers have higher sales. Maybe because they are newer? Also, larger stores generate more sales, discounts generally generate higher sales values and larger unemployment result in a bit fewer sales. Unfortunately, there appears to be little relationship between holidays, temperatures or fuelprices with our weekly sales.\n",
        "\n",
        "Next up, let's plot some of these relationships to get a clearer image."
      ]
    },
    {
      "metadata": {
        "id": "yeUurRhBJqDt",
        "colab_type": "code",
        "colab": {
          "base_uri": "https://localhost:8080/",
          "height": 542
        },
        "outputId": "c158070c-1204-4428-a048-408b782e72db"
      },
      "cell_type": "code",
      "source": [
        "%matplotlib inline\n",
        "\n",
        "headers = list(df)\n",
        "labels = headers\n",
        "scatterplots(df['Fuel_Price'], 'Fuel_Price')\n",
        "scatterplots(df['Size'], 'Size')\n",
        "#scatterplots(df['Temperature'], 'Temperature')\n",
        "#scatterplots(df['Unemployment'], 'Unemployment')\n",
        "#scatterplots(df['IsHoliday'], 'IsHoliday')\n",
        "#scatterplots(df['Type'], 'Type')"
      ],
      "execution_count": 19,
      "outputs": [
        {
          "output_type": "display_data",
          "data": {
            "image/png": "[encoded data removed]",
            "text/plain": [
              "<matplotlib.figure.Figure at 0x7f19839e8b70>"
            ]
          },
          "metadata": {
            "tags": []
          }
        },
        {
          "output_type": "display_data",
          "data": {
            "image/png": "[encoded data removed]",
            "text/plain": [
              "<matplotlib.figure.Figure at 0x7f19a925d128>"
            ]
          },
          "metadata": {
            "tags": []
          }
        }
      ]
    },
    {
      "metadata": {
        "id": "S7WvgoaZMagB",
        "colab_type": "text"
      },
      "cell_type": "markdown",
      "source": [
        "From this plot, we notice that type C stores have fewer sales in general and holidays clearly show more sales.Although no further relationships appear evident from this analysis, there appears to be some outliers in our data. Let's take a bit of a closer look at these."
      ]
    },
    {
      "metadata": {
        "id": "9jqEWeK4MaGz",
        "colab_type": "code",
        "colab": {
          "base_uri": "https://localhost:8080/",
          "height": 1625
        },
        "outputId": "395d2b2e-7a21-4166-b017-5dc0182e9080"
      },
      "cell_type": "code",
      "source": [
        "df.loc[df['Weekly_Sales'] >300000]"
      ],
      "execution_count": 20,
      "outputs": [
        {
          "output_type": "execute_result",
          "data": {
            "text/html": [
              "<div>\n",
              "<style scoped>\n",
              "    .dataframe tbody tr th:only-of-type {\n",
              "        vertical-align: middle;\n",
              "    }\n",
              "\n",
              "    .dataframe tbody tr th {\n",
              "        vertical-align: top;\n",
              "    }\n",
              "\n",
              "    .dataframe thead th {\n",
              "        text-align: right;\n",
              "    }\n",
              "</style>\n",
              "<table border=\"1\" class=\"dataframe\">\n",
              "  <thead>\n",
              "    <tr style=\"text-align: right;\">\n",
              "      <th></th>\n",
              "      <th>CPI</th>\n",
              "      <th>Date</th>\n",
              "      <th>Dept</th>\n",
              "      <th>Fuel_Price</th>\n",
              "      <th>IsHoliday</th>\n",
              "      <th>MarkDown1</th>\n",
              "      <th>MarkDown2</th>\n",
              "      <th>MarkDown3</th>\n",
              "      <th>MarkDown4</th>\n",
              "      <th>MarkDown5</th>\n",
              "      <th>Size</th>\n",
              "      <th>Split</th>\n",
              "      <th>Store</th>\n",
              "      <th>Temperature</th>\n",
              "      <th>Type</th>\n",
              "      <th>Unemployment</th>\n",
              "      <th>Weekly_Sales</th>\n",
              "    </tr>\n",
              "  </thead>\n",
              "  <tbody>\n",
              "    <tr>\n",
              "      <th>32594</th>\n",
              "      <td>126.669267</td>\n",
              "      <td>2010-11-26</td>\n",
              "      <td>72</td>\n",
              "      <td>2.752</td>\n",
              "      <td>True</td>\n",
              "      <td>NaN</td>\n",
              "      <td>NaN</td>\n",
              "      <td>NaN</td>\n",
              "      <td>NaN</td>\n",
              "      <td>NaN</td>\n",
              "      <td>205863</td>\n",
              "      <td>Train</td>\n",
              "      <td>4</td>\n",
              "      <td>8.933333</td>\n",
              "      <td>A</td>\n",
              "      <td>7.127</td>\n",
              "      <td>381072.11</td>\n",
              "    </tr>\n",
              "    <tr>\n",
              "      <th>36312</th>\n",
              "      <td>129.836400</td>\n",
              "      <td>2011-11-25</td>\n",
              "      <td>72</td>\n",
              "      <td>3.225</td>\n",
              "      <td>True</td>\n",
              "      <td>561.45</td>\n",
              "      <td>137.88</td>\n",
              "      <td>83340.33</td>\n",
              "      <td>44.04</td>\n",
              "      <td>9239.23</td>\n",
              "      <td>205863</td>\n",
              "      <td>Train</td>\n",
              "      <td>4</td>\n",
              "      <td>8.866667</td>\n",
              "      <td>A</td>\n",
              "      <td>5.143</td>\n",
              "      <td>385051.04</td>\n",
              "    </tr>\n",
              "    <tr>\n",
              "      <th>36557</th>\n",
              "      <td>129.984548</td>\n",
              "      <td>2011-12-23</td>\n",
              "      <td>7</td>\n",
              "      <td>3.103</td>\n",
              "      <td>False</td>\n",
              "      <td>2461.94</td>\n",
              "      <td>69.05</td>\n",
              "      <td>2938.24</td>\n",
              "      <td>52.00</td>\n",
              "      <td>4396.76</td>\n",
              "      <td>205863</td>\n",
              "      <td>Train</td>\n",
              "      <td>4</td>\n",
              "      <td>2.177778</td>\n",
              "      <td>A</td>\n",
              "      <td>5.143</td>\n",
              "      <td>318422.01</td>\n",
              "    </tr>\n",
              "    <tr>\n",
              "      <th>51826</th>\n",
              "      <td>213.267296</td>\n",
              "      <td>2010-11-26</td>\n",
              "      <td>72</td>\n",
              "      <td>2.735</td>\n",
              "      <td>True</td>\n",
              "      <td>NaN</td>\n",
              "      <td>NaN</td>\n",
              "      <td>NaN</td>\n",
              "      <td>NaN</td>\n",
              "      <td>NaN</td>\n",
              "      <td>202505</td>\n",
              "      <td>Train</td>\n",
              "      <td>6</td>\n",
              "      <td>18.772222</td>\n",
              "      <td>A</td>\n",
              "      <td>7.007</td>\n",
              "      <td>342578.65</td>\n",
              "    </tr>\n",
              "    <tr>\n",
              "      <th>55545</th>\n",
              "      <td>220.041741</td>\n",
              "      <td>2011-11-25</td>\n",
              "      <td>72</td>\n",
              "      <td>3.236</td>\n",
              "      <td>True</td>\n",
              "      <td>429.03</td>\n",
              "      <td>171.88</td>\n",
              "      <td>83192.81</td>\n",
              "      <td>15.00</td>\n",
              "      <td>986.23</td>\n",
              "      <td>202505</td>\n",
              "      <td>Train</td>\n",
              "      <td>6</td>\n",
              "      <td>17.100000</td>\n",
              "      <td>A</td>\n",
              "      <td>6.551</td>\n",
              "      <td>326866.60</td>\n",
              "    </tr>\n",
              "    <tr>\n",
              "      <th>90645</th>\n",
              "      <td>126.669267</td>\n",
              "      <td>2010-11-26</td>\n",
              "      <td>72</td>\n",
              "      <td>3.162</td>\n",
              "      <td>True</td>\n",
              "      <td>NaN</td>\n",
              "      <td>NaN</td>\n",
              "      <td>NaN</td>\n",
              "      <td>NaN</td>\n",
              "      <td>NaN</td>\n",
              "      <td>126512</td>\n",
              "      <td>Train</td>\n",
              "      <td>10</td>\n",
              "      <td>12.961111</td>\n",
              "      <td>B</td>\n",
              "      <td>9.003</td>\n",
              "      <td>693099.36</td>\n",
              "    </tr>\n",
              "    <tr>\n",
              "      <th>90886</th>\n",
              "      <td>126.983581</td>\n",
              "      <td>2010-12-24</td>\n",
              "      <td>7</td>\n",
              "      <td>3.236</td>\n",
              "      <td>False</td>\n",
              "      <td>NaN</td>\n",
              "      <td>NaN</td>\n",
              "      <td>NaN</td>\n",
              "      <td>NaN</td>\n",
              "      <td>NaN</td>\n",
              "      <td>126512</td>\n",
              "      <td>Train</td>\n",
              "      <td>10</td>\n",
              "      <td>13.922222</td>\n",
              "      <td>B</td>\n",
              "      <td>9.003</td>\n",
              "      <td>406988.63</td>\n",
              "    </tr>\n",
              "    <tr>\n",
              "      <th>90936</th>\n",
              "      <td>126.983581</td>\n",
              "      <td>2010-12-24</td>\n",
              "      <td>72</td>\n",
              "      <td>3.236</td>\n",
              "      <td>False</td>\n",
              "      <td>NaN</td>\n",
              "      <td>NaN</td>\n",
              "      <td>NaN</td>\n",
              "      <td>NaN</td>\n",
              "      <td>NaN</td>\n",
              "      <td>126512</td>\n",
              "      <td>Train</td>\n",
              "      <td>10</td>\n",
              "      <td>13.922222</td>\n",
              "      <td>B</td>\n",
              "      <td>9.003</td>\n",
              "      <td>404245.03</td>\n",
              "    </tr>\n",
              "    <tr>\n",
              "      <th>94393</th>\n",
              "      <td>129.836400</td>\n",
              "      <td>2011-11-25</td>\n",
              "      <td>72</td>\n",
              "      <td>3.760</td>\n",
              "      <td>True</td>\n",
              "      <td>174.72</td>\n",
              "      <td>329.00</td>\n",
              "      <td>141630.61</td>\n",
              "      <td>79.00</td>\n",
              "      <td>1009.98</td>\n",
              "      <td>126512</td>\n",
              "      <td>Train</td>\n",
              "      <td>10</td>\n",
              "      <td>15.933333</td>\n",
              "      <td>B</td>\n",
              "      <td>7.874</td>\n",
              "      <td>630999.19</td>\n",
              "    </tr>\n",
              "    <tr>\n",
              "      <th>94634</th>\n",
              "      <td>129.984548</td>\n",
              "      <td>2011-12-23</td>\n",
              "      <td>7</td>\n",
              "      <td>3.541</td>\n",
              "      <td>False</td>\n",
              "      <td>300.02</td>\n",
              "      <td>77.73</td>\n",
              "      <td>2432.01</td>\n",
              "      <td>108.37</td>\n",
              "      <td>4078.21</td>\n",
              "      <td>126512</td>\n",
              "      <td>Train</td>\n",
              "      <td>10</td>\n",
              "      <td>9.088889</td>\n",
              "      <td>B</td>\n",
              "      <td>7.874</td>\n",
              "      <td>341308.00</td>\n",
              "    </tr>\n",
              "    <tr>\n",
              "      <th>110792</th>\n",
              "      <td>126.669267</td>\n",
              "      <td>2010-11-26</td>\n",
              "      <td>72</td>\n",
              "      <td>3.162</td>\n",
              "      <td>True</td>\n",
              "      <td>NaN</td>\n",
              "      <td>NaN</td>\n",
              "      <td>NaN</td>\n",
              "      <td>NaN</td>\n",
              "      <td>NaN</td>\n",
              "      <td>112238</td>\n",
              "      <td>Train</td>\n",
              "      <td>12</td>\n",
              "      <td>8.700000</td>\n",
              "      <td>B</td>\n",
              "      <td>14.313</td>\n",
              "      <td>359995.60</td>\n",
              "    </tr>\n",
              "    <tr>\n",
              "      <th>114299</th>\n",
              "      <td>129.836400</td>\n",
              "      <td>2011-11-25</td>\n",
              "      <td>72</td>\n",
              "      <td>3.622</td>\n",
              "      <td>True</td>\n",
              "      <td>5391.83</td>\n",
              "      <td>8.00</td>\n",
              "      <td>63143.29</td>\n",
              "      <td>49.27</td>\n",
              "      <td>2115.67</td>\n",
              "      <td>112238</td>\n",
              "      <td>Train</td>\n",
              "      <td>12</td>\n",
              "      <td>11.805556</td>\n",
              "      <td>B</td>\n",
              "      <td>12.890</td>\n",
              "      <td>360140.66</td>\n",
              "    </tr>\n",
              "    <tr>\n",
              "      <th>131088</th>\n",
              "      <td>182.783277</td>\n",
              "      <td>2010-11-26</td>\n",
              "      <td>72</td>\n",
              "      <td>3.039</td>\n",
              "      <td>True</td>\n",
              "      <td>NaN</td>\n",
              "      <td>NaN</td>\n",
              "      <td>NaN</td>\n",
              "      <td>NaN</td>\n",
              "      <td>NaN</td>\n",
              "      <td>200898</td>\n",
              "      <td>Train</td>\n",
              "      <td>14</td>\n",
              "      <td>7.861111</td>\n",
              "      <td>A</td>\n",
              "      <td>8.724</td>\n",
              "      <td>474330.10</td>\n",
              "    </tr>\n",
              "    <tr>\n",
              "      <th>131321</th>\n",
              "      <td>182.544590</td>\n",
              "      <td>2010-12-24</td>\n",
              "      <td>7</td>\n",
              "      <td>3.141</td>\n",
              "      <td>False</td>\n",
              "      <td>NaN</td>\n",
              "      <td>NaN</td>\n",
              "      <td>NaN</td>\n",
              "      <td>NaN</td>\n",
              "      <td>NaN</td>\n",
              "      <td>200898</td>\n",
              "      <td>Train</td>\n",
              "      <td>14</td>\n",
              "      <td>-0.783333</td>\n",
              "      <td>A</td>\n",
              "      <td>8.724</td>\n",
              "      <td>356867.25</td>\n",
              "    </tr>\n",
              "    <tr>\n",
              "      <th>131368</th>\n",
              "      <td>182.544590</td>\n",
              "      <td>2010-12-24</td>\n",
              "      <td>72</td>\n",
              "      <td>3.141</td>\n",
              "      <td>False</td>\n",
              "      <td>NaN</td>\n",
              "      <td>NaN</td>\n",
              "      <td>NaN</td>\n",
              "      <td>NaN</td>\n",
              "      <td>NaN</td>\n",
              "      <td>200898</td>\n",
              "      <td>Train</td>\n",
              "      <td>14</td>\n",
              "      <td>-0.783333</td>\n",
              "      <td>A</td>\n",
              "      <td>8.724</td>\n",
              "      <td>313933.22</td>\n",
              "    </tr>\n",
              "    <tr>\n",
              "      <th>134722</th>\n",
              "      <td>188.350400</td>\n",
              "      <td>2011-11-25</td>\n",
              "      <td>72</td>\n",
              "      <td>3.492</td>\n",
              "      <td>True</td>\n",
              "      <td>286.52</td>\n",
              "      <td>54.00</td>\n",
              "      <td>89402.64</td>\n",
              "      <td>13.00</td>\n",
              "      <td>1915.80</td>\n",
              "      <td>200898</td>\n",
              "      <td>Train</td>\n",
              "      <td>14</td>\n",
              "      <td>9.283333</td>\n",
              "      <td>A</td>\n",
              "      <td>8.523</td>\n",
              "      <td>375948.31</td>\n",
              "    </tr>\n",
              "    <tr>\n",
              "      <th>170247</th>\n",
              "      <td>132.836933</td>\n",
              "      <td>2010-11-26</td>\n",
              "      <td>72</td>\n",
              "      <td>3.070</td>\n",
              "      <td>True</td>\n",
              "      <td>NaN</td>\n",
              "      <td>NaN</td>\n",
              "      <td>NaN</td>\n",
              "      <td>NaN</td>\n",
              "      <td>NaN</td>\n",
              "      <td>120653</td>\n",
              "      <td>Train</td>\n",
              "      <td>18</td>\n",
              "      <td>4.894444</td>\n",
              "      <td>B</td>\n",
              "      <td>9.331</td>\n",
              "      <td>353008.64</td>\n",
              "    </tr>\n",
              "    <tr>\n",
              "      <th>173813</th>\n",
              "      <td>136.478800</td>\n",
              "      <td>2011-11-25</td>\n",
              "      <td>72</td>\n",
              "      <td>3.536</td>\n",
              "      <td>True</td>\n",
              "      <td>748.82</td>\n",
              "      <td>46.00</td>\n",
              "      <td>71366.86</td>\n",
              "      <td>19.00</td>\n",
              "      <td>577.40</td>\n",
              "      <td>120653</td>\n",
              "      <td>Train</td>\n",
              "      <td>18</td>\n",
              "      <td>5.538889</td>\n",
              "      <td>B</td>\n",
              "      <td>8.471</td>\n",
              "      <td>305161.38</td>\n",
              "    </tr>\n",
              "    <tr>\n",
              "      <th>180227</th>\n",
              "      <td>132.836933</td>\n",
              "      <td>2010-11-26</td>\n",
              "      <td>72</td>\n",
              "      <td>3.186</td>\n",
              "      <td>True</td>\n",
              "      <td>NaN</td>\n",
              "      <td>NaN</td>\n",
              "      <td>NaN</td>\n",
              "      <td>NaN</td>\n",
              "      <td>NaN</td>\n",
              "      <td>203819</td>\n",
              "      <td>Train</td>\n",
              "      <td>19</td>\n",
              "      <td>5.900000</td>\n",
              "      <td>A</td>\n",
              "      <td>8.067</td>\n",
              "      <td>339846.03</td>\n",
              "    </tr>\n",
              "    <tr>\n",
              "      <th>190370</th>\n",
              "      <td>204.962100</td>\n",
              "      <td>2010-11-26</td>\n",
              "      <td>72</td>\n",
              "      <td>3.039</td>\n",
              "      <td>True</td>\n",
              "      <td>NaN</td>\n",
              "      <td>NaN</td>\n",
              "      <td>NaN</td>\n",
              "      <td>NaN</td>\n",
              "      <td>NaN</td>\n",
              "      <td>203742</td>\n",
              "      <td>Train</td>\n",
              "      <td>20</td>\n",
              "      <td>8.144444</td>\n",
              "      <td>A</td>\n",
              "      <td>7.484</td>\n",
              "      <td>422306.25</td>\n",
              "    </tr>\n",
              "    <tr>\n",
              "      <th>190660</th>\n",
              "      <td>204.637673</td>\n",
              "      <td>2010-12-24</td>\n",
              "      <td>72</td>\n",
              "      <td>3.141</td>\n",
              "      <td>False</td>\n",
              "      <td>NaN</td>\n",
              "      <td>NaN</td>\n",
              "      <td>NaN</td>\n",
              "      <td>NaN</td>\n",
              "      <td>NaN</td>\n",
              "      <td>203742</td>\n",
              "      <td>Train</td>\n",
              "      <td>20</td>\n",
              "      <td>-3.794444</td>\n",
              "      <td>A</td>\n",
              "      <td>7.484</td>\n",
              "      <td>303006.44</td>\n",
              "    </tr>\n",
              "    <tr>\n",
              "      <th>194093</th>\n",
              "      <td>211.412076</td>\n",
              "      <td>2011-11-25</td>\n",
              "      <td>72</td>\n",
              "      <td>3.492</td>\n",
              "      <td>True</td>\n",
              "      <td>335.66</td>\n",
              "      <td>80.00</td>\n",
              "      <td>101378.79</td>\n",
              "      <td>64.46</td>\n",
              "      <td>2251.98</td>\n",
              "      <td>203742</td>\n",
              "      <td>Train</td>\n",
              "      <td>20</td>\n",
              "      <td>7.988889</td>\n",
              "      <td>A</td>\n",
              "      <td>7.082</td>\n",
              "      <td>392023.02</td>\n",
              "    </tr>\n",
              "    <tr>\n",
              "      <th>210037</th>\n",
              "      <td>136.689571</td>\n",
              "      <td>2010-11-26</td>\n",
              "      <td>72</td>\n",
              "      <td>3.070</td>\n",
              "      <td>True</td>\n",
              "      <td>NaN</td>\n",
              "      <td>NaN</td>\n",
              "      <td>NaN</td>\n",
              "      <td>NaN</td>\n",
              "      <td>NaN</td>\n",
              "      <td>119557</td>\n",
              "      <td>Train</td>\n",
              "      <td>22</td>\n",
              "      <td>7.005556</td>\n",
              "      <td>B</td>\n",
              "      <td>8.572</td>\n",
              "      <td>393705.20</td>\n",
              "    </tr>\n",
              "    <tr>\n",
              "      <th>213530</th>\n",
              "      <td>140.421786</td>\n",
              "      <td>2011-11-25</td>\n",
              "      <td>72</td>\n",
              "      <td>3.536</td>\n",
              "      <td>True</td>\n",
              "      <td>1649.31</td>\n",
              "      <td>NaN</td>\n",
              "      <td>70087.94</td>\n",
              "      <td>7.50</td>\n",
              "      <td>5266.90</td>\n",
              "      <td>119557</td>\n",
              "      <td>Train</td>\n",
              "      <td>22</td>\n",
              "      <td>7.933333</td>\n",
              "      <td>B</td>\n",
              "      <td>7.706</td>\n",
              "      <td>345532.23</td>\n",
              "    </tr>\n",
              "    <tr>\n",
              "      <th>219800</th>\n",
              "      <td>132.836933</td>\n",
              "      <td>2010-11-26</td>\n",
              "      <td>72</td>\n",
              "      <td>3.070</td>\n",
              "      <td>True</td>\n",
              "      <td>NaN</td>\n",
              "      <td>NaN</td>\n",
              "      <td>NaN</td>\n",
              "      <td>NaN</td>\n",
              "      <td>NaN</td>\n",
              "      <td>114533</td>\n",
              "      <td>Train</td>\n",
              "      <td>23</td>\n",
              "      <td>1.638889</td>\n",
              "      <td>B</td>\n",
              "      <td>5.287</td>\n",
              "      <td>369830.98</td>\n",
              "    </tr>\n",
              "    <tr>\n",
              "      <th>223478</th>\n",
              "      <td>136.478800</td>\n",
              "      <td>2011-11-25</td>\n",
              "      <td>72</td>\n",
              "      <td>3.536</td>\n",
              "      <td>True</td>\n",
              "      <td>70.24</td>\n",
              "      <td>47.47</td>\n",
              "      <td>103991.94</td>\n",
              "      <td>7.00</td>\n",
              "      <td>677.31</td>\n",
              "      <td>114533</td>\n",
              "      <td>Train</td>\n",
              "      <td>23</td>\n",
              "      <td>1.794444</td>\n",
              "      <td>B</td>\n",
              "      <td>4.420</td>\n",
              "      <td>347680.08</td>\n",
              "    </tr>\n",
              "    <tr>\n",
              "      <th>259799</th>\n",
              "      <td>136.689571</td>\n",
              "      <td>2010-11-26</td>\n",
              "      <td>72</td>\n",
              "      <td>3.186</td>\n",
              "      <td>True</td>\n",
              "      <td>NaN</td>\n",
              "      <td>NaN</td>\n",
              "      <td>NaN</td>\n",
              "      <td>NaN</td>\n",
              "      <td>NaN</td>\n",
              "      <td>204184</td>\n",
              "      <td>Train</td>\n",
              "      <td>27</td>\n",
              "      <td>8.150000</td>\n",
              "      <td>A</td>\n",
              "      <td>8.021</td>\n",
              "      <td>420586.57</td>\n",
              "    </tr>\n",
              "    <tr>\n",
              "      <th>263519</th>\n",
              "      <td>140.421786</td>\n",
              "      <td>2011-11-25</td>\n",
              "      <td>72</td>\n",
              "      <td>3.689</td>\n",
              "      <td>True</td>\n",
              "      <td>164.01</td>\n",
              "      <td>27.47</td>\n",
              "      <td>73934.06</td>\n",
              "      <td>24.22</td>\n",
              "      <td>540.56</td>\n",
              "      <td>204184</td>\n",
              "      <td>Train</td>\n",
              "      <td>27</td>\n",
              "      <td>8.822222</td>\n",
              "      <td>A</td>\n",
              "      <td>7.906</td>\n",
              "      <td>368484.19</td>\n",
              "    </tr>\n",
              "    <tr>\n",
              "      <th>269997</th>\n",
              "      <td>126.669267</td>\n",
              "      <td>2010-11-26</td>\n",
              "      <td>72</td>\n",
              "      <td>3.162</td>\n",
              "      <td>True</td>\n",
              "      <td>NaN</td>\n",
              "      <td>NaN</td>\n",
              "      <td>NaN</td>\n",
              "      <td>NaN</td>\n",
              "      <td>NaN</td>\n",
              "      <td>206302</td>\n",
              "      <td>Train</td>\n",
              "      <td>28</td>\n",
              "      <td>8.700000</td>\n",
              "      <td>A</td>\n",
              "      <td>14.313</td>\n",
              "      <td>355356.39</td>\n",
              "    </tr>\n",
              "    <tr>\n",
              "      <th>273668</th>\n",
              "      <td>129.836400</td>\n",
              "      <td>2011-11-25</td>\n",
              "      <td>72</td>\n",
              "      <td>3.622</td>\n",
              "      <td>True</td>\n",
              "      <td>2232.08</td>\n",
              "      <td>179.73</td>\n",
              "      <td>61319.72</td>\n",
              "      <td>513.76</td>\n",
              "      <td>1790.89</td>\n",
              "      <td>206302</td>\n",
              "      <td>Train</td>\n",
              "      <td>28</td>\n",
              "      <td>11.805556</td>\n",
              "      <td>A</td>\n",
              "      <td>12.890</td>\n",
              "      <td>351763.71</td>\n",
              "    </tr>\n",
              "    <tr>\n",
              "      <th>333594</th>\n",
              "      <td>136.689571</td>\n",
              "      <td>2010-11-26</td>\n",
              "      <td>72</td>\n",
              "      <td>3.039</td>\n",
              "      <td>True</td>\n",
              "      <td>NaN</td>\n",
              "      <td>NaN</td>\n",
              "      <td>NaN</td>\n",
              "      <td>NaN</td>\n",
              "      <td>NaN</td>\n",
              "      <td>103681</td>\n",
              "      <td>Train</td>\n",
              "      <td>35</td>\n",
              "      <td>8.150000</td>\n",
              "      <td>B</td>\n",
              "      <td>8.763</td>\n",
              "      <td>627962.93</td>\n",
              "    </tr>\n",
              "    <tr>\n",
              "      <th>337053</th>\n",
              "      <td>140.421786</td>\n",
              "      <td>2011-11-25</td>\n",
              "      <td>72</td>\n",
              "      <td>3.492</td>\n",
              "      <td>True</td>\n",
              "      <td>1333.24</td>\n",
              "      <td>NaN</td>\n",
              "      <td>58563.24</td>\n",
              "      <td>20.97</td>\n",
              "      <td>6386.86</td>\n",
              "      <td>103681</td>\n",
              "      <td>Train</td>\n",
              "      <td>35</td>\n",
              "      <td>8.822222</td>\n",
              "      <td>B</td>\n",
              "      <td>8.745</td>\n",
              "      <td>649770.18</td>\n",
              "    </tr>\n",
              "    <tr>\n",
              "      <th>364033</th>\n",
              "      <td>210.515277</td>\n",
              "      <td>2010-11-26</td>\n",
              "      <td>72</td>\n",
              "      <td>2.735</td>\n",
              "      <td>True</td>\n",
              "      <td>NaN</td>\n",
              "      <td>NaN</td>\n",
              "      <td>NaN</td>\n",
              "      <td>NaN</td>\n",
              "      <td>NaN</td>\n",
              "      <td>184109</td>\n",
              "      <td>Train</td>\n",
              "      <td>39</td>\n",
              "      <td>19.861111</td>\n",
              "      <td>A</td>\n",
              "      <td>8.476</td>\n",
              "      <td>339700.62</td>\n",
              "    </tr>\n",
              "    <tr>\n",
              "      <th>367624</th>\n",
              "      <td>217.181253</td>\n",
              "      <td>2011-11-25</td>\n",
              "      <td>72</td>\n",
              "      <td>3.236</td>\n",
              "      <td>True</td>\n",
              "      <td>224.08</td>\n",
              "      <td>292.94</td>\n",
              "      <td>77126.16</td>\n",
              "      <td>77.74</td>\n",
              "      <td>4875.43</td>\n",
              "      <td>184109</td>\n",
              "      <td>Train</td>\n",
              "      <td>39</td>\n",
              "      <td>19.088889</td>\n",
              "      <td>A</td>\n",
              "      <td>7.716</td>\n",
              "      <td>351553.98</td>\n",
              "    </tr>\n",
              "  </tbody>\n",
              "</table>\n",
              "</div>"
            ],
            "text/plain": [
              "               CPI        Date  Dept  Fuel_Price  IsHoliday  MarkDown1  \\\n",
              "32594   126.669267  2010-11-26    72       2.752       True        NaN   \n",
              "36312   129.836400  2011-11-25    72       3.225       True     561.45   \n",
              "36557   129.984548  2011-12-23     7       3.103      False    2461.94   \n",
              "51826   213.267296  2010-11-26    72       2.735       True        NaN   \n",
              "55545   220.041741  2011-11-25    72       3.236       True     429.03   \n",
              "90645   126.669267  2010-11-26    72       3.162       True        NaN   \n",
              "90886   126.983581  2010-12-24     7       3.236      False        NaN   \n",
              "90936   126.983581  2010-12-24    72       3.236      False        NaN   \n",
              "94393   129.836400  2011-11-25    72       3.760       True     174.72   \n",
              "94634   129.984548  2011-12-23     7       3.541      False     300.02   \n",
              "110792  126.669267  2010-11-26    72       3.162       True        NaN   \n",
              "114299  129.836400  2011-11-25    72       3.622       True    5391.83   \n",
              "131088  182.783277  2010-11-26    72       3.039       True        NaN   \n",
              "131321  182.544590  2010-12-24     7       3.141      False        NaN   \n",
              "131368  182.544590  2010-12-24    72       3.141      False        NaN   \n",
              "134722  188.350400  2011-11-25    72       3.492       True     286.52   \n",
              "170247  132.836933  2010-11-26    72       3.070       True        NaN   \n",
              "173813  136.478800  2011-11-25    72       3.536       True     748.82   \n",
              "180227  132.836933  2010-11-26    72       3.186       True        NaN   \n",
              "190370  204.962100  2010-11-26    72       3.039       True        NaN   \n",
              "190660  204.637673  2010-12-24    72       3.141      False        NaN   \n",
              "194093  211.412076  2011-11-25    72       3.492       True     335.66   \n",
              "210037  136.689571  2010-11-26    72       3.070       True        NaN   \n",
              "213530  140.421786  2011-11-25    72       3.536       True    1649.31   \n",
              "219800  132.836933  2010-11-26    72       3.070       True        NaN   \n",
              "223478  136.478800  2011-11-25    72       3.536       True      70.24   \n",
              "259799  136.689571  2010-11-26    72       3.186       True        NaN   \n",
              "263519  140.421786  2011-11-25    72       3.689       True     164.01   \n",
              "269997  126.669267  2010-11-26    72       3.162       True        NaN   \n",
              "273668  129.836400  2011-11-25    72       3.622       True    2232.08   \n",
              "333594  136.689571  2010-11-26    72       3.039       True        NaN   \n",
              "337053  140.421786  2011-11-25    72       3.492       True    1333.24   \n",
              "364033  210.515277  2010-11-26    72       2.735       True        NaN   \n",
              "367624  217.181253  2011-11-25    72       3.236       True     224.08   \n",
              "\n",
              "        MarkDown2  MarkDown3  MarkDown4  MarkDown5    Size  Split  Store  \\\n",
              "32594         NaN        NaN        NaN        NaN  205863  Train      4   \n",
              "36312      137.88   83340.33      44.04    9239.23  205863  Train      4   \n",
              "36557       69.05    2938.24      52.00    4396.76  205863  Train      4   \n",
              "51826         NaN        NaN        NaN        NaN  202505  Train      6   \n",
              "55545      171.88   83192.81      15.00     986.23  202505  Train      6   \n",
              "90645         NaN        NaN        NaN        NaN  126512  Train     10   \n",
              "90886         NaN        NaN        NaN        NaN  126512  Train     10   \n",
              "90936         NaN        NaN        NaN        NaN  126512  Train     10   \n",
              "94393      329.00  141630.61      79.00    1009.98  126512  Train     10   \n",
              "94634       77.73    2432.01     108.37    4078.21  126512  Train     10   \n",
              "110792        NaN        NaN        NaN        NaN  112238  Train     12   \n",
              "114299       8.00   63143.29      49.27    2115.67  112238  Train     12   \n",
              "131088        NaN        NaN        NaN        NaN  200898  Train     14   \n",
              "131321        NaN        NaN        NaN        NaN  200898  Train     14   \n",
              "131368        NaN        NaN        NaN        NaN  200898  Train     14   \n",
              "134722      54.00   89402.64      13.00    1915.80  200898  Train     14   \n",
              "170247        NaN        NaN        NaN        NaN  120653  Train     18   \n",
              "173813      46.00   71366.86      19.00     577.40  120653  Train     18   \n",
              "180227        NaN        NaN        NaN        NaN  203819  Train     19   \n",
              "190370        NaN        NaN        NaN        NaN  203742  Train     20   \n",
              "190660        NaN        NaN        NaN        NaN  203742  Train     20   \n",
              "194093      80.00  101378.79      64.46    2251.98  203742  Train     20   \n",
              "210037        NaN        NaN        NaN        NaN  119557  Train     22   \n",
              "213530        NaN   70087.94       7.50    5266.90  119557  Train     22   \n",
              "219800        NaN        NaN        NaN        NaN  114533  Train     23   \n",
              "223478      47.47  103991.94       7.00     677.31  114533  Train     23   \n",
              "259799        NaN        NaN        NaN        NaN  204184  Train     27   \n",
              "263519      27.47   73934.06      24.22     540.56  204184  Train     27   \n",
              "269997        NaN        NaN        NaN        NaN  206302  Train     28   \n",
              "273668     179.73   61319.72     513.76    1790.89  206302  Train     28   \n",
              "333594        NaN        NaN        NaN        NaN  103681  Train     35   \n",
              "337053        NaN   58563.24      20.97    6386.86  103681  Train     35   \n",
              "364033        NaN        NaN        NaN        NaN  184109  Train     39   \n",
              "367624     292.94   77126.16      77.74    4875.43  184109  Train     39   \n",
              "\n",
              "        Temperature Type  Unemployment  Weekly_Sales  \n",
              "32594      8.933333    A         7.127     381072.11  \n",
              "36312      8.866667    A         5.143     385051.04  \n",
              "36557      2.177778    A         5.143     318422.01  \n",
              "51826     18.772222    A         7.007     342578.65  \n",
              "55545     17.100000    A         6.551     326866.60  \n",
              "90645     12.961111    B         9.003     693099.36  \n",
              "90886     13.922222    B         9.003     406988.63  \n",
              "90936     13.922222    B         9.003     404245.03  \n",
              "94393     15.933333    B         7.874     630999.19  \n",
              "94634      9.088889    B         7.874     341308.00  \n",
              "110792     8.700000    B        14.313     359995.60  \n",
              "114299    11.805556    B        12.890     360140.66  \n",
              "131088     7.861111    A         8.724     474330.10  \n",
              "131321    -0.783333    A         8.724     356867.25  \n",
              "131368    -0.783333    A         8.724     313933.22  \n",
              "134722     9.283333    A         8.523     375948.31  \n",
              "170247     4.894444    B         9.331     353008.64  \n",
              "173813     5.538889    B         8.471     305161.38  \n",
              "180227     5.900000    A         8.067     339846.03  \n",
              "190370     8.144444    A         7.484     422306.25  \n",
              "190660    -3.794444    A         7.484     303006.44  \n",
              "194093     7.988889    A         7.082     392023.02  \n",
              "210037     7.005556    B         8.572     393705.20  \n",
              "213530     7.933333    B         7.706     345532.23  \n",
              "219800     1.638889    B         5.287     369830.98  \n",
              "223478     1.794444    B         4.420     347680.08  \n",
              "259799     8.150000    A         8.021     420586.57  \n",
              "263519     8.822222    A         7.906     368484.19  \n",
              "269997     8.700000    A        14.313     355356.39  \n",
              "273668    11.805556    A        12.890     351763.71  \n",
              "333594     8.150000    B         8.763     627962.93  \n",
              "337053     8.822222    B         8.745     649770.18  \n",
              "364033    19.861111    A         8.476     339700.62  \n",
              "367624    19.088889    A         7.716     351553.98  "
            ]
          },
          "metadata": {
            "tags": []
          },
          "execution_count": 20
        }
      ]
    },
    {
      "metadata": {
        "id": "vcz6MNp_MhoC",
        "colab_type": "text"
      },
      "cell_type": "markdown",
      "source": [
        "It appears to be quite obvious. The end of November sees a lot of exceptionally large sales. This special day, better known as Black friday, causes sales to be on fire, and undoubtedly a dummy variable should be created for this day. Also, Christmas, appears here and there. Since it is not considered holiday, we will also make a dummy for this day. Let's see if we should consider some other special days as well."
      ]
    },
    {
      "metadata": {
        "id": "ahjGM5e-MiWz",
        "colab_type": "code",
        "colab": {
          "base_uri": "https://localhost:8080/",
          "height": 158
        },
        "outputId": "8d250828-1507-4b98-b351-770fe95c10ec"
      },
      "cell_type": "code",
      "source": [
        "df.loc[df['Weekly_Sales'] >240000,\"Date\"].value_counts()"
      ],
      "execution_count": 21,
      "outputs": [
        {
          "output_type": "execute_result",
          "data": {
            "text/plain": [
              "2010-11-26    23\n",
              "2011-11-25    22\n",
              "2010-12-24    14\n",
              "2011-12-23     9\n",
              "2010-12-17     2\n",
              "2010-02-05     1\n",
              "2011-08-26     1\n",
              "Name: Date, dtype: int64"
            ]
          },
          "metadata": {
            "tags": []
          },
          "execution_count": 21
        }
      ]
    },
    {
      "metadata": {
        "id": "g8FCdYlWMoIw",
        "colab_type": "text"
      },
      "cell_type": "markdown",
      "source": [
        "Except for a handful spurious other dates, it appears that the two days before Christmas and Black Friday will do the job.\n",
        "#Scrub the data and engineer features\n",
        "## Missing values\n",
        "We will start with filling in any blank values. There seem to be some missing values in the data. We have to make sure to deal with them before feeding anything into the network."
      ]
    },
    {
      "metadata": {
        "id": "OS9GTf4SMkkN",
        "colab_type": "code",
        "colab": {
          "base_uri": "https://localhost:8080/",
          "height": 334
        },
        "outputId": "221fc7db-2e64-41c6-bdda-d21b39cc5e50"
      },
      "cell_type": "code",
      "source": [
        "df.isnull().sum()"
      ],
      "execution_count": 22,
      "outputs": [
        {
          "output_type": "execute_result",
          "data": {
            "text/plain": [
              "CPI              38162\n",
              "Date                 0\n",
              "Dept                 0\n",
              "Fuel_Price           0\n",
              "IsHoliday            0\n",
              "MarkDown1       271038\n",
              "MarkDown2       338949\n",
              "MarkDown3       294308\n",
              "MarkDown4       299491\n",
              "MarkDown5       270138\n",
              "Size                 0\n",
              "Split                0\n",
              "Store                0\n",
              "Temperature          0\n",
              "Type                 0\n",
              "Unemployment     38162\n",
              "Weekly_Sales    115064\n",
              "dtype: int64"
            ]
          },
          "metadata": {
            "tags": []
          },
          "execution_count": 22
        }
      ]
    },
    {
      "metadata": {
        "id": "8_NmO__5M5sV",
        "colab_type": "text"
      },
      "cell_type": "markdown",
      "source": [
        "We will do a bit of very basic feature engineering here by creating a feature which indicates whether a certain markdown was active at all."
      ]
    },
    {
      "metadata": {
        "id": "Ryn0BEl4M72r",
        "colab_type": "code",
        "colab": {}
      },
      "cell_type": "code",
      "source": [
        "df = df.assign(md1_present = df.MarkDown1.notnull())\n",
        "df = df.assign(md2_present = df.MarkDown2.notnull())\n",
        "df = df.assign(md3_present = df.MarkDown3.notnull())\n",
        "df = df.assign(md4_present = df.MarkDown4.notnull())\n",
        "df = df.assign(md5_present = df.MarkDown5.notnull())"
      ],
      "execution_count": 0,
      "outputs": []
    },
    {
      "metadata": {
        "id": "R4YhRGYXM__v",
        "colab_type": "text"
      },
      "cell_type": "markdown",
      "source": [
        "We can probably safely fill all missing values with zero. For the markdowns this means that there was no markdown. For the weekly sales, the missing values are the ones we have to predict, so it does not really matter what we fill in there."
      ]
    },
    {
      "metadata": {
        "id": "9g4F77vkNA3S",
        "colab_type": "code",
        "colab": {}
      },
      "cell_type": "code",
      "source": [
        "df.fillna(0, inplace=True)"
      ],
      "execution_count": 0,
      "outputs": []
    },
    {
      "metadata": {
        "id": "liSE6Fn0NEuN",
        "colab_type": "text"
      },
      "cell_type": "markdown",
      "source": [
        "# Dummy variables: Categorical Data\n",
        "Now we have to create some dummy variebles for categorical data."
      ]
    },
    {
      "metadata": {
        "id": "_mbWR2GYNHSW",
        "colab_type": "code",
        "colab": {}
      },
      "cell_type": "code",
      "source": [
        "# Make sure we can later recognize what a dummy once belonged to\n",
        "df['Type'] = 'Type_' + df['Type'].map(str)\n",
        "df['Store'] = 'Store_' + df['Store'].map(str)\n",
        "df['Dept'] = 'Dept_' + df['Dept'].map(str)\n",
        "df['IsHoliday'] = 'IsHoliday_' + df['IsHoliday'].map(str)"
      ],
      "execution_count": 0,
      "outputs": []
    },
    {
      "metadata": {
        "id": "qfpCZfNoNJRU",
        "colab_type": "code",
        "colab": {}
      },
      "cell_type": "code",
      "source": [
        "# Create dummies\n",
        "type_dummies = pd.get_dummies(df['Type'])\n",
        "store_dummies = pd.get_dummies(df['Store'])\n",
        "dept_dummies = pd.get_dummies(df['Dept'])\n",
        "holiday_dummies = pd.get_dummies(df['IsHoliday'])"
      ],
      "execution_count": 0,
      "outputs": []
    },
    {
      "metadata": {
        "id": "RBXsXdM0NMgr",
        "colab_type": "text"
      },
      "cell_type": "markdown",
      "source": [
        "# Dummy variables: Dates\n",
        "From our earlier analysis, it has turned out that the date may be our best friend. As a general rule, it is a good start to already distinguish between different months in our model. This will create 12 dummy variables; one for each month."
      ]
    },
    {
      "metadata": {
        "id": "CMW1UNqXNOeD",
        "colab_type": "code",
        "colab": {}
      },
      "cell_type": "code",
      "source": [
        "df['DateType'] = [datetime.strptime(date, '%Y-%m-%d').date() for date in df['Date'].astype(str).values.tolist()]\n",
        "df['Month'] = [date.month for date in df['DateType']]\n",
        "df['Month'] = 'Month_' + df['Month'].map(str)\n",
        "Month_dummies = pd.get_dummies(df['Month'] )"
      ],
      "execution_count": 0,
      "outputs": []
    },
    {
      "metadata": {
        "id": "0nbD6AI_NRG4",
        "colab_type": "text"
      },
      "cell_type": "markdown",
      "source": [
        "Next, let's look at 'special dates'. One variable for Christmas, one for black friday. We have to manually look up the dates of black friday if we want to extrapolate our data to other years, but for now we know: 26 - 11 - 2010 and 25 - 11 - 2011."
      ]
    },
    {
      "metadata": {
        "id": "neTAb_xCNR7h",
        "colab_type": "code",
        "colab": {}
      },
      "cell_type": "code",
      "source": [
        "df['Black_Friday'] = np.where((df['DateType']==datetime(2010, 11, 26).date()) | (df['DateType']==datetime(2011, 11, 25).date()), 'yes', 'no')\n",
        "df['Pre_christmas'] = np.where((df['DateType']==datetime(2010, 12, 23).date()) | (df['DateType']==datetime(2010, 12, 24).date()) | (df['DateType']==datetime(2011, 12, 23).date()) | (df['DateType']==datetime(2011, 12, 24).date()), 'yes', 'no')\n",
        "df['Black_Friday'] = 'Black_Friday_' + df['Black_Friday'].map(str)\n",
        "df['Pre_christmas'] = 'Pre_christmas_' + df['Pre_christmas'].map(str)\n",
        "Black_Friday_dummies = pd.get_dummies(df['Black_Friday'] )\n",
        "Pre_christmas_dummies = pd.get_dummies(df['Pre_christmas'] )"
      ],
      "execution_count": 0,
      "outputs": []
    },
    {
      "metadata": {
        "id": "GN-0gtXBNT2U",
        "colab_type": "code",
        "colab": {}
      },
      "cell_type": "code",
      "source": [
        "# Add dummies\n",
        "# We will actually skip some of these\n",
        "#df = pd.concat([df,type_dummies,store_dummies,dept_dummies,holiday_dummies,Pre_christmas_dummies,Black_Friday_dummies,Month_dummies],axis=1)\n",
        "\n",
        "df = pd.concat([df,holiday_dummies,Pre_christmas_dummies,Black_Friday_dummies],axis=1)"
      ],
      "execution_count": 0,
      "outputs": []
    },
    {
      "metadata": {
        "id": "3iFU6_zKNYxf",
        "colab_type": "text"
      },
      "cell_type": "markdown",
      "source": [
        "# Store median\n",
        "We will take the store median in the available data as one of its properties"
      ]
    },
    {
      "metadata": {
        "id": "k4YqbxvmNc7X",
        "colab_type": "code",
        "colab": {}
      },
      "cell_type": "code",
      "source": [
        "# Get dataframe with averages per store and department\n",
        "medians = pd.DataFrame({'Median Sales' :df.loc[df['Split']=='Train'].groupby(by=['Type','Dept','Store','Month','IsHoliday'])['Weekly_Sales'].median()}).reset_index()\n",
        "medians.head()"
      ],
      "execution_count": 0,
      "outputs": []
    },
    {
      "metadata": {
        "id": "XlhXKpJLNgN_",
        "colab_type": "code",
        "colab": {}
      },
      "cell_type": "code",
      "source": [
        "# Merge by type, store, department and month\n",
        "df = df.merge(medians, how = 'outer', on = ['Type','Dept','Store','Month','IsHoliday'])"
      ],
      "execution_count": 0,
      "outputs": []
    },
    {
      "metadata": {
        "id": "woPnZXlaNiKt",
        "colab_type": "code",
        "colab": {}
      },
      "cell_type": "code",
      "source": [
        "# Fill NA\n",
        "df['Median Sales'].fillna(df['Median Sales'].loc[df['Split']=='Train'].median(), inplace=True) \n",
        "\n",
        "# Create a key for easy access\n",
        "\n",
        "df['Key'] = df['Type'].map(str)+df['Dept'].map(str)+df['Store'].map(str)+df['Date'].map(str)+df['IsHoliday'].map(str)"
      ],
      "execution_count": 0,
      "outputs": []
    },
    {
      "metadata": {
        "id": "yV4eJArqNkbH",
        "colab_type": "code",
        "colab": {}
      },
      "cell_type": "code",
      "source": [
        "df.head()"
      ],
      "execution_count": 0,
      "outputs": []
    },
    {
      "metadata": {
        "id": "EINyR8CuNoLV",
        "colab_type": "text"
      },
      "cell_type": "markdown",
      "source": [
        "# Lagged Variables\n",
        "We will take a lagged variable of our store's previous weeks sales. To do so, we will first add a column with a one week lagged date, sort the data, and then match the lagged sales with the initial dataframe using the department and store number.\n",
        "\n",
        "We begin by adding a column with a one week lag."
      ]
    },
    {
      "metadata": {
        "id": "L63TDsnVNqFn",
        "colab_type": "code",
        "colab": {}
      },
      "cell_type": "code",
      "source": [
        "# Attach variable of last weeks time\n",
        "df['DateLagged'] = df['DateType']- timedelta(days=7)\n",
        "df.head()"
      ],
      "execution_count": 0,
      "outputs": []
    },
    {
      "metadata": {
        "id": "d6vbtpICNs_c",
        "colab_type": "text"
      },
      "cell_type": "markdown",
      "source": [
        "Next, we create a sorted dataframe."
      ]
    },
    {
      "metadata": {
        "id": "RAVHtDrRNt0K",
        "colab_type": "code",
        "colab": {}
      },
      "cell_type": "code",
      "source": [
        "# Make a sorted dataframe. This will allow us to find lagged variables much faster!\n",
        "sorted_df = df.sort_values(['Store', 'Dept','DateType'], ascending=[1, 1,1])\n",
        "sorted_df = sorted_df.reset_index(drop=True) # Reinitialize the row indices for the loop to work"
      ],
      "execution_count": 0,
      "outputs": []
    },
    {
      "metadata": {
        "id": "Pgq-e_yINwwX",
        "colab_type": "text"
      },
      "cell_type": "markdown",
      "source": [
        "Loop over its rows and check at each step if the previous week's sales are available. If not, fill with store and department average, which we retrieved before."
      ]
    },
    {
      "metadata": {
        "id": "Otb5KR55Nxnn",
        "colab_type": "code",
        "colab": {}
      },
      "cell_type": "code",
      "source": [
        "sorted_df['LaggedSales'] = np.nan # Initialize column\n",
        "sorted_df['LaggedAvailable'] = np.nan # Initialize column\n",
        "last=df.loc[0] # intialize last row for first iteration. Doesn't really matter what it is\n",
        "row_len = sorted_df.shape[0]\n",
        "for index, row in sorted_df.iterrows():\n",
        "    lag_date = row[\"DateLagged\"]\n",
        "    # Check if it matches by comparing last weeks value to the compared date \n",
        "    # And if weekly sales aren't 0\n",
        "    if((last['DateType']== lag_date) & (last['Weekly_Sales']>0)): \n",
        "        sorted_df.set_value(index, 'LaggedSales',last['Weekly_Sales'])\n",
        "        sorted_df.set_value(index, 'LaggedAvailable',1)\n",
        "    else:\n",
        "        sorted_df.set_value(index, 'LaggedSales',row['Median Sales']) # Fill with median\n",
        "        sorted_df.set_value(index, 'LaggedAvailable',0)\n",
        "\n",
        "    last = row #Remember last row for speed\n",
        "    if(index%int(row_len/10)==0): #See progress by printing every 10% interval\n",
        "        print(str(int(index*100/row_len))+'% loaded')"
      ],
      "execution_count": 0,
      "outputs": []
    },
    {
      "metadata": {
        "id": "VUKUEaGJOM3K",
        "colab_type": "code",
        "colab": {}
      },
      "cell_type": "code",
      "source": [
        "sorted_df[['Dept', 'Store','DateType','LaggedSales','Weekly_Sales','Median Sales']].head()"
      ],
      "execution_count": 0,
      "outputs": []
    },
    {
      "metadata": {
        "id": "fxrUDlmRONxN",
        "colab_type": "text"
      },
      "cell_type": "markdown",
      "source": [
        "Now, merge this new info with our existing dataset."
      ]
    },
    {
      "metadata": {
        "id": "R9J8rJYHOPbJ",
        "colab_type": "code",
        "colab": {}
      },
      "cell_type": "code",
      "source": [
        "# Merge by store and department\n",
        "df = df.merge(sorted_df[['Dept', 'Store','DateType','LaggedSales','LaggedAvailable']], how = 'inner', on = ['Dept', 'Store','DateType'])"
      ],
      "execution_count": 0,
      "outputs": []
    },
    {
      "metadata": {
        "id": "XTz5MpcIORAJ",
        "colab_type": "code",
        "colab": {}
      },
      "cell_type": "code",
      "source": [
        "df['Sales_dif'] = df['Median Sales'] - df['LaggedSales']\n",
        "df[['Dept', 'Store','DateType','LaggedSales','Weekly_Sales','Median Sales']].head()"
      ],
      "execution_count": 0,
      "outputs": []
    },
    {
      "metadata": {
        "id": "mdndBTokOTh9",
        "colab_type": "text"
      },
      "cell_type": "markdown",
      "source": [
        "# Remove redundant items\n",
        "We will take the store average in the available data as one of its properties"
      ]
    },
    {
      "metadata": {
        "id": "7Ibgt82DOVQF",
        "colab_type": "code",
        "colab": {}
      },
      "cell_type": "code",
      "source": [
        "switch= 1\n",
        "\n",
        "if(switch):\n",
        "    df_backup = df\n",
        "else:\n",
        "    df=df_backup\n",
        "    display(df_backup.head())"
      ],
      "execution_count": 0,
      "outputs": []
    },
    {
      "metadata": {
        "id": "jvBW5dXKOX7Z",
        "colab_type": "text"
      },
      "cell_type": "markdown",
      "source": [
        "# Scale Variables\n",
        "To make the job of our models easier in the next phase, we normalize our continous data. This is also called feature scaling."
      ]
    },
    {
      "metadata": {
        "id": "hS2BCZgsObrx",
        "colab_type": "code",
        "colab": {}
      },
      "cell_type": "code",
      "source": [
        "#df['Unemployment'] = (df['Unemployment'] - df['Unemployment'].mean())/(df['Unemployment'].std())\n",
        "##df['Temperature'] = (df['Temperature'] - df['Temperature'].mean())/(df['Temperature'].std())\n",
        "#df['Fuel_Price'] = (df['Fuel_Price'] - df['Fuel_Price'].mean())/(df['Fuel_Price'].std())\n",
        "#df['CPI'] = (df['CPI'] - df['CPI'].mean())/(df['CPI'].std())\n",
        "#df['MarkDown1'] = (df['MarkDown1'] - df['MarkDown1'].mean())/(df['MarkDown1'].std())\n",
        "#df['MarkDown2'] = (df['MarkDown2'] - df['MarkDown2'].mean())/(df['MarkDown2'].std())\n",
        "#df['MarkDown3'] = (df['MarkDown3'] - df['MarkDown3'].mean())/(df['MarkDown3'].std())\n",
        "#df['MarkDown4'] = (df['MarkDown4'] - df['MarkDown4'].mean())/(df['MarkDown4'].std())\n",
        "#df['MarkDown5'] = (df['MarkDown5'] - df['MarkDown5'].mean())/(df['MarkDown5'].std())\n",
        "#df['LaggedSales']= (df['LaggedSales'] - df['LaggedSales'].mean())/(df['LaggedSales'].std())"
      ],
      "execution_count": 0,
      "outputs": []
    },
    {
      "metadata": {
        "id": "w2enKx-GOcu0",
        "colab_type": "text"
      },
      "cell_type": "markdown",
      "source": [
        "Now, let's change the variable to be forecasted to the difference from the median. Afterward, we can drop the weekly sales."
      ]
    },
    {
      "metadata": {
        "id": "uXhYq26KOf6W",
        "colab_type": "code",
        "colab": {}
      },
      "cell_type": "code",
      "source": [
        "df['Difference'] = df['Median Sales'] - df['Weekly_Sales']"
      ],
      "execution_count": 0,
      "outputs": []
    },
    {
      "metadata": {
        "id": "hp13JQKqOg42",
        "colab_type": "text"
      },
      "cell_type": "markdown",
      "source": [
        "Let's have a look at our data set before running our actual models."
      ]
    },
    {
      "metadata": {
        "id": "k7UJ3SdAOi4w",
        "colab_type": "code",
        "colab": {}
      },
      "cell_type": "code",
      "source": [
        "df.head()"
      ],
      "execution_count": 0,
      "outputs": []
    },
    {
      "metadata": {
        "id": "_oLvNMqeOl6E",
        "colab_type": "code",
        "colab": {}
      },
      "cell_type": "code",
      "source": [
        "# Code from https://seaborn.pydata.org/examples/many_pairwise_correlations.html\n",
        "sns.set(style=\"white\")\n",
        "\n",
        "# Compute the correlation matrix\n",
        "corr = df.corr()\n",
        "\n",
        "# Generate a mask for the upper triangle\n",
        "mask = np.zeros_like(corr, dtype=np.bool)\n",
        "mask[np.triu_indices_from(mask)] = True\n",
        "\n",
        "# Set up the matplotlib figure\n",
        "f, ax = plt.subplots(figsize=(11, 9))\n",
        "\n",
        "# Generate a custom diverging colormap\n",
        "cmap = sns.diverging_palette(220, 10, as_cmap=True)\n",
        "\n",
        "# Draw the heatmap with the mask and correct aspect ratio\n",
        "sns.heatmap(corr, mask=mask, cmap=cmap, vmax=.3, center=0,\n",
        "            square=True, linewidths=.5, cbar_kws={\"shrink\": .5})"
      ],
      "execution_count": 0,
      "outputs": []
    },
    {
      "metadata": {
        "id": "oKHlSTxTOohI",
        "colab_type": "text"
      },
      "cell_type": "markdown",
      "source": [
        "# Select variables to include in model\n",
        "In this section, we can change the variables we ultimately want to include in our model training."
      ]
    },
    {
      "metadata": {
        "id": "6HcS8ThsOqZc",
        "colab_type": "code",
        "colab": {
          "base_uri": "https://localhost:8080/",
          "height": 592
        },
        "outputId": "a008df5d-525f-4ee5-d945-6e2672aa2a6d"
      },
      "cell_type": "code",
      "source": [
        "selector = [\n",
        "    #'Month',\n",
        "    'CPI',\n",
        "    'Fuel_Price',\n",
        "    'MarkDown1',\n",
        "    'MarkDown2',\n",
        "    'MarkDown3',\n",
        "    'MarkDown4',\n",
        "    'MarkDown5',\n",
        "    'Size',\n",
        "    'Temperature',\n",
        "    'Unemployment',\n",
        "    \n",
        "    \n",
        "    \n",
        "    'md1_present',\n",
        "    'md2_present',\n",
        "    'md3_present',\n",
        "    'md4_present',\n",
        "    'md5_present',\n",
        "\n",
        "    'IsHoliday_False',\n",
        "    'IsHoliday_True',\n",
        "    'Pre_christmas_no',\n",
        "    'Pre_christmas_yes',\n",
        "    'Black_Friday_no',\n",
        "    'Black_Friday_yes',    \n",
        "    'LaggedSales',\n",
        "    'Sales_dif',\n",
        "    'LaggedAvailable'\n",
        "    ]\n",
        "display(df[selector].describe())\n",
        "display(df[selector].head())"
      ],
      "execution_count": 62,
      "outputs": [
        {
          "output_type": "error",
          "ename": "KeyError",
          "evalue": "ignored",
          "traceback": [
            "\u001b[0;31m---------------------------------------------------------------------------\u001b[0m",
            "\u001b[0;31mKeyError\u001b[0m                                  Traceback (most recent call last)",
            "\u001b[0;32m<ipython-input-62-da563369dab2>\u001b[0m in \u001b[0;36m<module>\u001b[0;34m()\u001b[0m\n\u001b[1;32m     30\u001b[0m     \u001b[0;34m'LaggedAvailable'\u001b[0m\u001b[0;34m\u001b[0m\u001b[0m\n\u001b[1;32m     31\u001b[0m     ]\n\u001b[0;32m---> 32\u001b[0;31m \u001b[0mdisplay\u001b[0m\u001b[0;34m(\u001b[0m\u001b[0mdf\u001b[0m\u001b[0;34m[\u001b[0m\u001b[0mselector\u001b[0m\u001b[0;34m]\u001b[0m\u001b[0;34m.\u001b[0m\u001b[0mdescribe\u001b[0m\u001b[0;34m(\u001b[0m\u001b[0;34m)\u001b[0m\u001b[0;34m)\u001b[0m\u001b[0;34m\u001b[0m\u001b[0m\n\u001b[0m\u001b[1;32m     33\u001b[0m \u001b[0mdisplay\u001b[0m\u001b[0;34m(\u001b[0m\u001b[0mdf\u001b[0m\u001b[0;34m[\u001b[0m\u001b[0mselector\u001b[0m\u001b[0;34m]\u001b[0m\u001b[0;34m.\u001b[0m\u001b[0mhead\u001b[0m\u001b[0;34m(\u001b[0m\u001b[0;34m)\u001b[0m\u001b[0;34m)\u001b[0m\u001b[0;34m\u001b[0m\u001b[0m\n",
            "\u001b[0;32m/usr/local/lib/python3.6/dist-packages/pandas/core/frame.py\u001b[0m in \u001b[0;36m__getitem__\u001b[0;34m(self, key)\u001b[0m\n\u001b[1;32m   2131\u001b[0m         \u001b[0;32mif\u001b[0m \u001b[0misinstance\u001b[0m\u001b[0;34m(\u001b[0m\u001b[0mkey\u001b[0m\u001b[0;34m,\u001b[0m \u001b[0;34m(\u001b[0m\u001b[0mSeries\u001b[0m\u001b[0;34m,\u001b[0m \u001b[0mnp\u001b[0m\u001b[0;34m.\u001b[0m\u001b[0mndarray\u001b[0m\u001b[0;34m,\u001b[0m \u001b[0mIndex\u001b[0m\u001b[0;34m,\u001b[0m \u001b[0mlist\u001b[0m\u001b[0;34m)\u001b[0m\u001b[0;34m)\u001b[0m\u001b[0;34m:\u001b[0m\u001b[0;34m\u001b[0m\u001b[0m\n\u001b[1;32m   2132\u001b[0m             \u001b[0;31m# either boolean or fancy integer index\u001b[0m\u001b[0;34m\u001b[0m\u001b[0;34m\u001b[0m\u001b[0m\n\u001b[0;32m-> 2133\u001b[0;31m             \u001b[0;32mreturn\u001b[0m \u001b[0mself\u001b[0m\u001b[0;34m.\u001b[0m\u001b[0m_getitem_array\u001b[0m\u001b[0;34m(\u001b[0m\u001b[0mkey\u001b[0m\u001b[0;34m)\u001b[0m\u001b[0;34m\u001b[0m\u001b[0m\n\u001b[0m\u001b[1;32m   2134\u001b[0m         \u001b[0;32melif\u001b[0m \u001b[0misinstance\u001b[0m\u001b[0;34m(\u001b[0m\u001b[0mkey\u001b[0m\u001b[0;34m,\u001b[0m \u001b[0mDataFrame\u001b[0m\u001b[0;34m)\u001b[0m\u001b[0;34m:\u001b[0m\u001b[0;34m\u001b[0m\u001b[0m\n\u001b[1;32m   2135\u001b[0m             \u001b[0;32mreturn\u001b[0m \u001b[0mself\u001b[0m\u001b[0;34m.\u001b[0m\u001b[0m_getitem_frame\u001b[0m\u001b[0;34m(\u001b[0m\u001b[0mkey\u001b[0m\u001b[0;34m)\u001b[0m\u001b[0;34m\u001b[0m\u001b[0m\n",
            "\u001b[0;32m/usr/local/lib/python3.6/dist-packages/pandas/core/frame.py\u001b[0m in \u001b[0;36m_getitem_array\u001b[0;34m(self, key)\u001b[0m\n\u001b[1;32m   2175\u001b[0m             \u001b[0;32mreturn\u001b[0m \u001b[0mself\u001b[0m\u001b[0;34m.\u001b[0m\u001b[0m_take\u001b[0m\u001b[0;34m(\u001b[0m\u001b[0mindexer\u001b[0m\u001b[0;34m,\u001b[0m \u001b[0maxis\u001b[0m\u001b[0;34m=\u001b[0m\u001b[0;36m0\u001b[0m\u001b[0;34m,\u001b[0m \u001b[0mconvert\u001b[0m\u001b[0;34m=\u001b[0m\u001b[0;32mFalse\u001b[0m\u001b[0;34m)\u001b[0m\u001b[0;34m\u001b[0m\u001b[0m\n\u001b[1;32m   2176\u001b[0m         \u001b[0;32melse\u001b[0m\u001b[0;34m:\u001b[0m\u001b[0;34m\u001b[0m\u001b[0m\n\u001b[0;32m-> 2177\u001b[0;31m             \u001b[0mindexer\u001b[0m \u001b[0;34m=\u001b[0m \u001b[0mself\u001b[0m\u001b[0;34m.\u001b[0m\u001b[0mloc\u001b[0m\u001b[0;34m.\u001b[0m\u001b[0m_convert_to_indexer\u001b[0m\u001b[0;34m(\u001b[0m\u001b[0mkey\u001b[0m\u001b[0;34m,\u001b[0m \u001b[0maxis\u001b[0m\u001b[0;34m=\u001b[0m\u001b[0;36m1\u001b[0m\u001b[0;34m)\u001b[0m\u001b[0;34m\u001b[0m\u001b[0m\n\u001b[0m\u001b[1;32m   2178\u001b[0m             \u001b[0;32mreturn\u001b[0m \u001b[0mself\u001b[0m\u001b[0;34m.\u001b[0m\u001b[0m_take\u001b[0m\u001b[0;34m(\u001b[0m\u001b[0mindexer\u001b[0m\u001b[0;34m,\u001b[0m \u001b[0maxis\u001b[0m\u001b[0;34m=\u001b[0m\u001b[0;36m1\u001b[0m\u001b[0;34m,\u001b[0m \u001b[0mconvert\u001b[0m\u001b[0;34m=\u001b[0m\u001b[0;32mTrue\u001b[0m\u001b[0;34m)\u001b[0m\u001b[0;34m\u001b[0m\u001b[0m\n\u001b[1;32m   2179\u001b[0m \u001b[0;34m\u001b[0m\u001b[0m\n",
            "\u001b[0;32m/usr/local/lib/python3.6/dist-packages/pandas/core/indexing.py\u001b[0m in \u001b[0;36m_convert_to_indexer\u001b[0;34m(self, obj, axis, is_setter)\u001b[0m\n\u001b[1;32m   1267\u001b[0m                 \u001b[0;32mif\u001b[0m \u001b[0mmask\u001b[0m\u001b[0;34m.\u001b[0m\u001b[0many\u001b[0m\u001b[0;34m(\u001b[0m\u001b[0;34m)\u001b[0m\u001b[0;34m:\u001b[0m\u001b[0;34m\u001b[0m\u001b[0m\n\u001b[1;32m   1268\u001b[0m                     raise KeyError('{mask} not in index'\n\u001b[0;32m-> 1269\u001b[0;31m                                    .format(mask=objarr[mask]))\n\u001b[0m\u001b[1;32m   1270\u001b[0m \u001b[0;34m\u001b[0m\u001b[0m\n\u001b[1;32m   1271\u001b[0m                 \u001b[0;32mreturn\u001b[0m \u001b[0m_values_from_object\u001b[0m\u001b[0;34m(\u001b[0m\u001b[0mindexer\u001b[0m\u001b[0;34m)\u001b[0m\u001b[0;34m\u001b[0m\u001b[0m\n",
            "\u001b[0;31mKeyError\u001b[0m: \"['IsHoliday_False' 'IsHoliday_True' 'Pre_christmas_no' 'Pre_christmas_yes'\\n 'Black_Friday_no' 'Black_Friday_yes'] not in index\""
          ]
        }
      ]
    },
    {
      "metadata": {
        "id": "nY9dgcRyOuM4",
        "colab_type": "text"
      },
      "cell_type": "markdown",
      "source": [
        "# Split data into training and test sets¶\n",
        "Now we can split train test again and of course remove the trivial weekly sales data from the test set."
      ]
    },
    {
      "metadata": {
        "id": "7LkZWstvOwAw",
        "colab_type": "code",
        "colab": {}
      },
      "cell_type": "code",
      "source": [
        "train = df.loc[df['Split']=='Train']\n",
        "test = df.loc[df['Split']=='Test']\n",
        "test.head()"
      ],
      "execution_count": 0,
      "outputs": []
    },
    {
      "metadata": {
        "id": "a3S23LL-Ozcv",
        "colab_type": "text"
      },
      "cell_type": "markdown",
      "source": [
        "# Test - dev\n",
        "Usually, model performance can be evaluated on the out-of-sample test set. However, since that data is not available, it may be wise to split our training set one more time in order to be able to test out of sample performance. Let's give up 20% of our training set for this sanity check development set."
      ]
    },
    {
      "metadata": {
        "id": "71Lr0d47O1Oh",
        "colab_type": "code",
        "colab": {}
      },
      "cell_type": "code",
      "source": [
        "# Set seed for reproducability \n",
        "np.random.seed(42)\n",
        "X_train, X_dev, y_train, y_dev = train_test_split(train[selector], train['Difference'], test_size=0.2, random_state=42)\n",
        "print(X_dev.shape)\n",
        "print(y_dev.shape)"
      ],
      "execution_count": 0,
      "outputs": []
    },
    {
      "metadata": {
        "id": "y765YkkZO2qj",
        "colab_type": "text"
      },
      "cell_type": "markdown",
      "source": [
        "# Model selection\n",
        "As usual, let's start off with all our imports.\n",
        "##Adam optimizer with regularization\n",
        "In our next model, we will stick with the relu activator, but replace the momentum with an Adam optimizer. Adaptive momumtum estimator uses exponentially weighted averages of the gradients to optimize its momentum. However, since this method is known to overfit the model because of its fast decent, we will make use of a regulizer to avoid overfitting. The l2 regulizer adds the sum of absolute values of the weights to the loss function, thus discouraging large weights that overemphasize single observations."
      ]
    },
    {
      "metadata": {
        "id": "BaLYoasiO-4o",
        "colab_type": "code",
        "colab": {}
      },
      "cell_type": "code",
      "source": [
        "neural = False\n",
        "if neural:\n",
        "    # Sequential model\n",
        "    \n",
        "    adam_regularized = Sequential()\n",
        "\n",
        "    # First hidden layer now regularized\n",
        "    adam_regularized.add(Dense(32,activation='relu',\n",
        "                    input_dim=X_train.shape[1],\n",
        "                    kernel_regularizer = regularizers.l2(0.01)))\n",
        "\n",
        "    # Second hidden layer now regularized\n",
        "    adam_regularized.add(Dense(16,activation='relu',\n",
        "                       kernel_regularizer = regularizers.l2(0.01)))\n",
        "\n",
        "    # Output layer stayed sigmoid\n",
        "    adam_regularized.add(Dense(1,activation='linear'))\n",
        "\n",
        "    # Setup adam optimizer\n",
        "    adam_optimizer=keras.optimizers.Adam(lr=0.01,\n",
        "                    beta_1=0.9, \n",
        "                    beta_2=0.999, \n",
        "                    epsilon=1e-08)\n",
        "\n",
        "    # Compile the model\n",
        "    adam_regularized.compile(optimizer=adam_optimizer,\n",
        "                  loss='mean_absolute_error',\n",
        "                  metrics=['acc'])\n",
        "\n",
        "    # Train\n",
        "    history_adam_regularized=adam_regularized.fit(X_train, y_train, # Train on training set\n",
        "                                 epochs=10, # We will train over 1,000 epochs\n",
        "                                 batch_size=2048, # Batch size \n",
        "                                 verbose=0) # Suppress Keras output\n",
        "    adam_regularized.evaluate(x=X_dev,y=y_dev)\n",
        "\n",
        "    # Plot network\n",
        "    plt.plot(history_adam_regularized.history['loss'], label='Adam Regularized')\n",
        "    plt.xlabel('Epochs')\n",
        "    plt.ylabel('loss')\n",
        "    plt.legend()\n",
        "    plt.show()\n",
        "    y_pred_neural = adam_regularized.predict(X_dev)"
      ],
      "execution_count": 0,
      "outputs": []
    },
    {
      "metadata": {
        "id": "CecykgSKPA-x",
        "colab_type": "text"
      },
      "cell_type": "markdown",
      "source": [
        "# Random Forest\n",
        "Train on random forest"
      ]
    },
    {
      "metadata": {
        "id": "xUWC1xslPIBF",
        "colab_type": "code",
        "colab": {}
      },
      "cell_type": "code",
      "source": [
        "#Random forest model specification\n",
        "regr = RandomForestRegressor(n_estimators=20, criterion='mse', max_depth=None, \n",
        "                      min_samples_split=2, min_samples_leaf=1, \n",
        "                      min_weight_fraction_leaf=0.0, max_features='auto', \n",
        "                      max_leaf_nodes=None, min_impurity_decrease=0.0, \n",
        "                      min_impurity_split=None, bootstrap=True, \n",
        "                      oob_score=False, n_jobs=1, random_state=None, \n",
        "                      verbose=2, warm_start=False)\n",
        "\n",
        "#Train on data\n",
        "regr.fit(X_train, y_train.ravel())"
      ],
      "execution_count": 0,
      "outputs": []
    },
    {
      "metadata": {
        "id": "uM5MJxb5PJ9t",
        "colab_type": "text"
      },
      "cell_type": "markdown",
      "source": [
        "# Model evaluation\n",
        "To evaluate the model, we will look at MAE and accuracy in terms of the number of times it correctly estimated an upward or downward deviation from the median."
      ]
    },
    {
      "metadata": {
        "id": "XqKpg8a0PLol",
        "colab_type": "code",
        "colab": {}
      },
      "cell_type": "code",
      "source": [
        "# Transform forest predictions to observe direction of change\n",
        "direction_true1= binary(y_dev.values)\n",
        "direction_predict = binary(y_pred_random)\n",
        "\n",
        "## show confusion matrix random forest\n",
        "cnf_matrix = confusion_matrix(direction_true1, direction_predict)\n",
        "\n",
        "fig, ax = plt.subplots(1)\n",
        "ax = sns.heatmap(cnf_matrix, ax=ax, cmap=plt.cm.Greens, annot=True)\n",
        "#ax.set_xticklabels(abbreviation)\n",
        "#ax.set_yticklabels(abbreviation)\n",
        "plt.title('Confusion matrix of random forest predictions')\n",
        "plt.ylabel('True category')\n",
        "plt.xlabel('Predicted category')\n",
        "plt.show();"
      ],
      "execution_count": 0,
      "outputs": []
    },
    {
      "metadata": {
        "id": "dVlooh5iPOfc",
        "colab_type": "code",
        "colab": {}
      },
      "cell_type": "code",
      "source": [
        "y_dev['Predicted'] = y_pred_random\n",
        "df_out = pd.merge(train,y_dev[['Predicted']],how = 'left',left_index = True, right_index = True,suffixes=['_True','_Pred'])\n",
        "df_out = df_out[~pd.isnull(df_out['Predicted'])]\n",
        "df_out.head()"
      ],
      "execution_count": 0,
      "outputs": []
    },
    {
      "metadata": {
        "id": "FnfzkgONPQpN",
        "colab_type": "code",
        "colab": {}
      },
      "cell_type": "code",
      "source": [
        "df_out['prediction'] = df_out['Median Sales']-df_out['Predicted']\n",
        "plot_prediction(df_out['Weekly_Sales'],df_out['prediction'],\"Random Forest\")\n",
        "plot_prediction(y_pred_random,y_dev['Difference'].values,\"Random Forest\")"
      ],
      "execution_count": 0,
      "outputs": []
    },
    {
      "metadata": {
        "id": "vEPJgm9sPSpy",
        "colab_type": "code",
        "colab": {}
      },
      "cell_type": "code",
      "source": [
        "print(\"Medians: \"+str(sum(abs(df_out['Difference']))/df_out.shape[0]))\n",
        "print(\"Random Forest: \"+str(sum(abs(df_out['Weekly_Sales']-df_out['prediction']))/df_out.shape[0]))"
      ],
      "execution_count": 0,
      "outputs": []
    },
    {
      "metadata": {
        "id": "pXQbafpnPUlX",
        "colab_type": "text"
      },
      "cell_type": "markdown",
      "source": [
        "Looks good! Let's train on our full data set to get the maximum amount of information in our model."
      ]
    },
    {
      "metadata": {
        "id": "YZlY2NxtPWj3",
        "colab_type": "code",
        "colab": {}
      },
      "cell_type": "code",
      "source": [
        "#Random forest model specification. Set n_estimators lower for faster performance\n",
        "rf_model = RandomForestRegressor(n_estimators=80, criterion='mse', max_depth=None, \n",
        "                      min_samples_split=2, min_samples_leaf=1, \n",
        "                      min_weight_fraction_leaf=0.0, max_features='auto', \n",
        "                      max_leaf_nodes=None, min_impurity_decrease=0.0, \n",
        "                      min_impurity_split=None, bootstrap=True, \n",
        "                      oob_score=False, n_jobs=1, random_state=None, \n",
        "                      verbose=0, warm_start=False)\n",
        "\n",
        "#Train on data\n",
        "rf_model.fit(train[selector], train['Difference'])"
      ],
      "execution_count": 0,
      "outputs": []
    },
    {
      "metadata": {
        "id": "qoSWjuIIPYU8",
        "colab_type": "code",
        "colab": {}
      },
      "cell_type": "code",
      "source": [
        "#Use if large model skipped\n",
        "#rf_model = regr"
      ],
      "execution_count": 0,
      "outputs": []
    },
    {
      "metadata": {
        "id": "SAwF2IG2Pa9A",
        "colab_type": "text"
      },
      "cell_type": "markdown",
      "source": [
        "# Forecasting sales\n",
        "After we have created our model, we can predict things with it on the test set"
      ]
    },
    {
      "metadata": {
        "id": "mLAfgqqlPeeK",
        "colab_type": "code",
        "colab": {}
      },
      "cell_type": "code",
      "source": [
        "final_y_prediction = rf_model.predict(test[selector])"
      ],
      "execution_count": 0,
      "outputs": []
    },
    {
      "metadata": {
        "id": "fhClNBNBPfO4",
        "colab_type": "code",
        "colab": {}
      },
      "cell_type": "code",
      "source": [
        "testfile = pd.concat([test.reset_index(drop=True), pd.DataFrame(final_y_prediction)], axis=1)\n",
        "testfile['prediction'] = testfile['Median Sales']-testfile[0]\n",
        "testfile.head()"
      ],
      "execution_count": 0,
      "outputs": []
    },
    {
      "metadata": {
        "id": "h_9NjAuGPiN-",
        "colab_type": "text"
      },
      "cell_type": "markdown",
      "source": [
        "Now we create the submission. Once you run the kernel you can download the submission from its outputs and upload it to the Kaggle InClass competition page."
      ]
    },
    {
      "metadata": {
        "id": "ksx2rTkVPjEX",
        "colab_type": "code",
        "colab": {}
      },
      "cell_type": "code",
      "source": [
        "submission = pd.DataFrame({'id':pd.Series([''.join(list(filter(str.isdigit, x))) for x in testfile['Store']]).map(str) + '_' +\n",
        "                           pd.Series([''.join(list(filter(str.isdigit, x))) for x in testfile['Dept']]).map(str)  + '_' +\n",
        "                           testfile['Date'].map(str),\n",
        "                          'Weekly_Sales':testfile['prediction']})\n",
        "submission.head()"
      ],
      "execution_count": 0,
      "outputs": []
    },
    {
      "metadata": {
        "id": "diz2eQlyPlhl",
        "colab_type": "text"
      },
      "cell_type": "markdown",
      "source": [
        "Check submission one more time"
      ]
    },
    {
      "metadata": {
        "id": "RG7YKcGAPoAd",
        "colab_type": "code",
        "colab": {}
      },
      "cell_type": "code",
      "source": [
        "submission.to_csv(r'walmart\\submission.csv',index=False)"
      ],
      "execution_count": 0,
      "outputs": []
    }
  ]
}