{
  "nbformat": 4,
  "nbformat_minor": 0,
  "metadata": {
    "colab": {
      "name": "walmart.ipynb",
      "version": "0.3.2",
      "provenance": [],
      "include_colab_link": true
    },
    "kernelspec": {
      "name": "python3",
      "display_name": "Python 3"
    }
  },
  "cells": [
    {
      "cell_type": "markdown",
      "metadata": {
        "id": "view-in-github",
        "colab_type": "text"
      },
      "source": [
        "<a href=\"https://colab.research.google.com/github/bitaller/walmart/blob/master/walmart.ipynb\" target=\"_parent\"><img src=\"https://colab.research.google.com/assets/colab-badge.svg\" alt=\"Open In Colab\"/></a>"
      ]
    },
    {
      "metadata": {
        "id": "Yz6IoiCYH2Vh",
        "colab_type": "code",
        "colab": {
          "base_uri": "https://localhost:8080/",
          "height": 34
        },
        "outputId": "afcc4206-2133-42f4-8be3-6839c37a7ae3"
      },
      "cell_type": "code",
      "source": [
        "#Really need these\n",
        "import pandas as pd \n",
        "import numpy as np\n",
        "from numpy import *\n",
        "\n",
        "\n",
        "#Handy for debugging\n",
        "import gc\n",
        "import time\n",
        "import warnings\n",
        "import os\n",
        "\n",
        "#Date stuff\n",
        "from datetime import datetime\n",
        "from datetime import timedelta\n",
        "\n",
        "#Do some statistics\n",
        "from scipy.misc import imread\n",
        "from scipy import sparse\n",
        "import scipy.stats as ss\n",
        "import math\n",
        "\n",
        "#Nice graphing tools\n",
        "import matplotlib\n",
        "import matplotlib.pyplot as plt\n",
        "import seaborn as sns\n",
        "import plotly\n",
        "import plotly.offline as py\n",
        "import plotly.tools as tls\n",
        "import plotly.graph_objs as go\n",
        "import plotly.tools as tls\n",
        "\n",
        "#Machine learning tools\n",
        "from sklearn.ensemble import RandomForestRegressor\n",
        "from sklearn.utils.validation import check_X_y, check_is_fitted\n",
        "from sklearn.linear_model import LogisticRegression\n",
        "from sklearn import metrics\n",
        "from sklearn.metrics import log_loss\n",
        "from sklearn.model_selection import StratifiedKFold\n",
        "from sklearn.model_selection import train_test_split\n",
        "from sklearn.preprocessing import StandardScaler\n",
        "from sklearn.metrics import accuracy_score, confusion_matrix\n",
        "from scipy import sparse\n",
        "\n",
        "## Keras for deep learning\n",
        "import keras\n",
        "from keras.layers.core import Dense, Activation, Dropout\n",
        "from keras.layers.recurrent import LSTM\n",
        "from keras.layers import Bidirectional\n",
        "from keras.models import Sequential\n",
        "from keras import regularizers\n",
        "from keras import optimizers\n",
        "\n",
        "## Performance measures\n",
        "from sklearn.metrics import mean_squared_error"
      ],
      "execution_count": 1,
      "outputs": [
        {
          "output_type": "stream",
          "text": [
            "Using TensorFlow backend.\n"
          ],
          "name": "stderr"
        }
      ]
    },
    {
      "metadata": {
        "id": "3JEMhNBcH-lG",
        "colab_type": "code",
        "colab": {
          "base_uri": "https://localhost:8080/",
          "height": 34
        },
        "outputId": "0ed98675-5cd7-45b6-ca52-cbd71764cb38"
      },
      "cell_type": "code",
      "source": [
        "ls walmart/dataset"
      ],
      "execution_count": 15,
      "outputs": [
        {
          "output_type": "stream",
          "text": [
            "features.csv  stores.csv  test.csv  train.csv\n"
          ],
          "name": "stdout"
        }
      ]
    },
    {
      "metadata": {
        "id": "h_GEBs7mIDOG",
        "colab_type": "code",
        "colab": {}
      },
      "cell_type": "code",
      "source": [
        "#Merge info\n",
        "def mergeData(df):\n",
        "    features =pd.read_csv('walmart/dataset/features.csv')\n",
        "    storesdata =pd.read_csv('walmart/dataset/stores.csv')\n",
        "    df = pd.merge(df, features, on=['Store','Date','IsHoliday'],\n",
        "                  how='inner')\n",
        "    df = pd.merge(df, storesdata, on=['Store'],\n",
        "                  how='inner')\n",
        "    return df\n",
        "\n",
        "#http://scikit-learn.org/stable/auto_examples/plot_cv_predict.html\n",
        "def plot_prediction(predicted,true,desciption):\n",
        "    fig, ax = plt.subplots()\n",
        "    ax.scatter(true, predicted, edgecolors=(0, 0, 0))\n",
        "    ax.plot([true.min(), true.max()], [true.min(), true.max()], 'k--', lw=4)\n",
        "    ax.set_xlabel('Measured')\n",
        "    ax.set_ylabel('Predicted by '+desciption)\n",
        "    ax.plot([-30,30], [0,0], 'k-')   \n",
        "    ax.plot([0,0], [-30,30], 'k-')\n",
        "    plt.show()\n",
        "def binary(movement):\n",
        "    \"\"\"\n",
        "    Converts percent change to a binary 1 or 0, where 1 is an increase and 0 is a decrease/no change\n",
        "    \n",
        "    \"\"\"\n",
        "    #Empty arrays where a 1 represents an increase in price and a 0 represents a decrease in price\n",
        "    direction = np.empty(movement.shape[0])\n",
        "    #If the change in price is greater than zero, store it as a 1\n",
        "    #If the change in price is less than zero, store it as a 0\n",
        "    for i in range(movement.shape[0]):\n",
        "        if movement[i] > 0:\n",
        "            direction[i] = 1\n",
        "        else:\n",
        "            direction[i]= 0\n",
        "    return direction\n",
        "\n",
        "def scatterplots(feature, label):\n",
        "    x = feature\n",
        "    y = df['Weekly_Sales']\n",
        "    plt.scatter(x, y)\n",
        "    plt.ylabel('sales')\n",
        "    plt.xlabel(label)\n",
        "    plt.show()"
      ],
      "execution_count": 0,
      "outputs": []
    },
    {
      "metadata": {
        "id": "_PEPMhJEIFPt",
        "colab_type": "code",
        "colab": {
          "base_uri": "https://localhost:8080/",
          "height": 52
        },
        "outputId": "cae8b0c2-3163-4372-99d1-be3d126f7e8d"
      },
      "cell_type": "code",
      "source": [
        "print('Reading data...')\n",
        "print(os.listdir('walmart/dataset/'))"
      ],
      "execution_count": 17,
      "outputs": [
        {
          "output_type": "stream",
          "text": [
            "Reading data...\n",
            "['stores.csv', 'features.csv', 'test.csv', 'train.csv']\n"
          ],
          "name": "stdout"
        }
      ]
    },
    {
      "metadata": {
        "id": "82gt1k9AIIeF",
        "colab_type": "code",
        "colab": {
          "base_uri": "https://localhost:8080/",
          "height": 369
        },
        "outputId": "9a97674a-b2ed-46fd-ac35-cc92198bb977"
      },
      "cell_type": "code",
      "source": [
        "dataSource = 1\n",
        "if dataSource==1:\n",
        "    train = mergeData(pd.read_csv('./walmart/dataset/train.csv'))\n",
        "    test = mergeData(pd.read_csv('./walmart/dataset/test.csv'))\n",
        "    train['Split'] = 'Train'\n",
        "    test['Split'] = 'Test'\n",
        "    print(test.head())\n",
        "else: \n",
        "    train = pd.read_csv('../input/course-material-walmart-challenge/train.csv')\n",
        "    test = pd.read_csv('../input/course-material-walmart-challenge/test.csv')\n",
        "    train['Split'] = 'Train'\n",
        "    test['Split'] = 'Test'\n",
        "    test.head()"
      ],
      "execution_count": 26,
      "outputs": [
        {
          "output_type": "stream",
          "text": [
            "   Store  Dept        Date  IsHoliday  Temperature  Fuel_Price  MarkDown1  \\\n",
            "0      1     1  2012-11-02      False        55.32       3.386    6766.44   \n",
            "1      1     2  2012-11-02      False        55.32       3.386    6766.44   \n",
            "2      1     3  2012-11-02      False        55.32       3.386    6766.44   \n",
            "3      1     4  2012-11-02      False        55.32       3.386    6766.44   \n",
            "4      1     5  2012-11-02      False        55.32       3.386    6766.44   \n",
            "\n",
            "   MarkDown2  MarkDown3  MarkDown4  MarkDown5         CPI  Unemployment Type  \\\n",
            "0     5147.7      50.82     3639.9    2737.42  223.462779         6.573    A   \n",
            "1     5147.7      50.82     3639.9    2737.42  223.462779         6.573    A   \n",
            "2     5147.7      50.82     3639.9    2737.42  223.462779         6.573    A   \n",
            "3     5147.7      50.82     3639.9    2737.42  223.462779         6.573    A   \n",
            "4     5147.7      50.82     3639.9    2737.42  223.462779         6.573    A   \n",
            "\n",
            "     Size Split  \n",
            "0  151315  Test  \n",
            "1  151315  Test  \n",
            "2  151315  Test  \n",
            "3  151315  Test  \n",
            "4  151315  Test  \n"
          ],
          "name": "stdout"
        }
      ]
    },
    {
      "metadata": {
        "id": "4LPXBUCjIJVc",
        "colab_type": "code",
        "colab": {
          "base_uri": "https://localhost:8080/",
          "height": 299
        },
        "outputId": "cef8c81b-0e7f-4d93-8ec7-b532b4fa54e7"
      },
      "cell_type": "code",
      "source": [
        "test.head()"
      ],
      "execution_count": 23,
      "outputs": [
        {
          "output_type": "execute_result",
          "data": {
            "text/html": [
              "<div>\n",
              "<style scoped>\n",
              "    .dataframe tbody tr th:only-of-type {\n",
              "        vertical-align: middle;\n",
              "    }\n",
              "\n",
              "    .dataframe tbody tr th {\n",
              "        vertical-align: top;\n",
              "    }\n",
              "\n",
              "    .dataframe thead th {\n",
              "        text-align: right;\n",
              "    }\n",
              "</style>\n",
              "<table border=\"1\" class=\"dataframe\">\n",
              "  <thead>\n",
              "    <tr style=\"text-align: right;\">\n",
              "      <th></th>\n",
              "      <th>Store</th>\n",
              "      <th>Dept</th>\n",
              "      <th>Date</th>\n",
              "      <th>IsHoliday</th>\n",
              "      <th>Temperature</th>\n",
              "      <th>Fuel_Price</th>\n",
              "      <th>MarkDown1</th>\n",
              "      <th>MarkDown2</th>\n",
              "      <th>MarkDown3</th>\n",
              "      <th>MarkDown4</th>\n",
              "      <th>MarkDown5</th>\n",
              "      <th>CPI</th>\n",
              "      <th>Unemployment</th>\n",
              "      <th>Type</th>\n",
              "      <th>Size</th>\n",
              "      <th>Split</th>\n",
              "    </tr>\n",
              "  </thead>\n",
              "  <tbody>\n",
              "    <tr>\n",
              "      <th>0</th>\n",
              "      <td>1</td>\n",
              "      <td>1</td>\n",
              "      <td>2012-11-02</td>\n",
              "      <td>False</td>\n",
              "      <td>55.32</td>\n",
              "      <td>3.386</td>\n",
              "      <td>6766.44</td>\n",
              "      <td>5147.7</td>\n",
              "      <td>50.82</td>\n",
              "      <td>3639.9</td>\n",
              "      <td>2737.42</td>\n",
              "      <td>223.462779</td>\n",
              "      <td>6.573</td>\n",
              "      <td>A</td>\n",
              "      <td>151315</td>\n",
              "      <td>Test</td>\n",
              "    </tr>\n",
              "    <tr>\n",
              "      <th>1</th>\n",
              "      <td>1</td>\n",
              "      <td>2</td>\n",
              "      <td>2012-11-02</td>\n",
              "      <td>False</td>\n",
              "      <td>55.32</td>\n",
              "      <td>3.386</td>\n",
              "      <td>6766.44</td>\n",
              "      <td>5147.7</td>\n",
              "      <td>50.82</td>\n",
              "      <td>3639.9</td>\n",
              "      <td>2737.42</td>\n",
              "      <td>223.462779</td>\n",
              "      <td>6.573</td>\n",
              "      <td>A</td>\n",
              "      <td>151315</td>\n",
              "      <td>Test</td>\n",
              "    </tr>\n",
              "    <tr>\n",
              "      <th>2</th>\n",
              "      <td>1</td>\n",
              "      <td>3</td>\n",
              "      <td>2012-11-02</td>\n",
              "      <td>False</td>\n",
              "      <td>55.32</td>\n",
              "      <td>3.386</td>\n",
              "      <td>6766.44</td>\n",
              "      <td>5147.7</td>\n",
              "      <td>50.82</td>\n",
              "      <td>3639.9</td>\n",
              "      <td>2737.42</td>\n",
              "      <td>223.462779</td>\n",
              "      <td>6.573</td>\n",
              "      <td>A</td>\n",
              "      <td>151315</td>\n",
              "      <td>Test</td>\n",
              "    </tr>\n",
              "    <tr>\n",
              "      <th>3</th>\n",
              "      <td>1</td>\n",
              "      <td>4</td>\n",
              "      <td>2012-11-02</td>\n",
              "      <td>False</td>\n",
              "      <td>55.32</td>\n",
              "      <td>3.386</td>\n",
              "      <td>6766.44</td>\n",
              "      <td>5147.7</td>\n",
              "      <td>50.82</td>\n",
              "      <td>3639.9</td>\n",
              "      <td>2737.42</td>\n",
              "      <td>223.462779</td>\n",
              "      <td>6.573</td>\n",
              "      <td>A</td>\n",
              "      <td>151315</td>\n",
              "      <td>Test</td>\n",
              "    </tr>\n",
              "    <tr>\n",
              "      <th>4</th>\n",
              "      <td>1</td>\n",
              "      <td>5</td>\n",
              "      <td>2012-11-02</td>\n",
              "      <td>False</td>\n",
              "      <td>55.32</td>\n",
              "      <td>3.386</td>\n",
              "      <td>6766.44</td>\n",
              "      <td>5147.7</td>\n",
              "      <td>50.82</td>\n",
              "      <td>3639.9</td>\n",
              "      <td>2737.42</td>\n",
              "      <td>223.462779</td>\n",
              "      <td>6.573</td>\n",
              "      <td>A</td>\n",
              "      <td>151315</td>\n",
              "      <td>Test</td>\n",
              "    </tr>\n",
              "  </tbody>\n",
              "</table>\n",
              "</div>"
            ],
            "text/plain": [
              "   Store  Dept        Date  IsHoliday  Temperature  Fuel_Price  MarkDown1  \\\n",
              "0      1     1  2012-11-02      False        55.32       3.386    6766.44   \n",
              "1      1     2  2012-11-02      False        55.32       3.386    6766.44   \n",
              "2      1     3  2012-11-02      False        55.32       3.386    6766.44   \n",
              "3      1     4  2012-11-02      False        55.32       3.386    6766.44   \n",
              "4      1     5  2012-11-02      False        55.32       3.386    6766.44   \n",
              "\n",
              "   MarkDown2  MarkDown3  MarkDown4  MarkDown5         CPI  Unemployment Type  \\\n",
              "0     5147.7      50.82     3639.9    2737.42  223.462779         6.573    A   \n",
              "1     5147.7      50.82     3639.9    2737.42  223.462779         6.573    A   \n",
              "2     5147.7      50.82     3639.9    2737.42  223.462779         6.573    A   \n",
              "3     5147.7      50.82     3639.9    2737.42  223.462779         6.573    A   \n",
              "4     5147.7      50.82     3639.9    2737.42  223.462779         6.573    A   \n",
              "\n",
              "     Size Split  \n",
              "0  151315  Test  \n",
              "1  151315  Test  \n",
              "2  151315  Test  \n",
              "3  151315  Test  \n",
              "4  151315  Test  "
            ]
          },
          "metadata": {
            "tags": []
          },
          "execution_count": 23
        }
      ]
    },
    {
      "metadata": {
        "id": "UR52tGp9JGzZ",
        "colab_type": "code",
        "colab": {
          "base_uri": "https://localhost:8080/",
          "height": 122
        },
        "outputId": "9f40ccdc-2d50-44d6-f168-a1e0a35a6b01"
      },
      "cell_type": "code",
      "source": [
        "!git clone https://github.com/bitaller/walmart.git"
      ],
      "execution_count": 12,
      "outputs": [
        {
          "output_type": "stream",
          "text": [
            "Cloning into 'walmart'...\n",
            "remote: Enumerating objects: 10, done.\u001b[K\n",
            "remote: Counting objects: 100% (10/10), done.\u001b[K\n",
            "remote: Compressing objects: 100% (8/8), done.\u001b[K\n",
            "remote: Total 10 (delta 0), reused 0 (delta 0), pack-reused 0\u001b[K\n",
            "Unpacking objects: 100% (10/10), done.\n"
          ],
          "name": "stdout"
        }
      ]
    },
    {
      "metadata": {
        "id": "fygEDkkmJKSR",
        "colab_type": "code",
        "colab": {}
      },
      "cell_type": "code",
      "source": [
        "rm -rf walmart"
      ],
      "execution_count": 0,
      "outputs": []
    },
    {
      "metadata": {
        "id": "CWx4ReIpJLoY",
        "colab_type": "code",
        "colab": {
          "base_uri": "https://localhost:8080/",
          "height": 34
        },
        "outputId": "86efc2bc-2cf3-41f3-8bad-2e3a06cd1c79"
      },
      "cell_type": "code",
      "source": [
        "ls walmart"
      ],
      "execution_count": 13,
      "outputs": [
        {
          "output_type": "stream",
          "text": [
            "\u001b[0m\u001b[01;34mdataset\u001b[0m/  Readme.txt\n"
          ],
          "name": "stdout"
        }
      ]
    },
    {
      "metadata": {
        "id": "ETGIERIBJNti",
        "colab_type": "code",
        "colab": {
          "base_uri": "https://localhost:8080/",
          "height": 34
        },
        "outputId": "71a71bb1-132c-4dc2-d3c1-4aa5eee87fbe"
      },
      "cell_type": "code",
      "source": [
        "ls walmart/dataset"
      ],
      "execution_count": 14,
      "outputs": [
        {
          "output_type": "stream",
          "text": [
            "features.csv  stores.csv  test.csv  train.csv\n"
          ],
          "name": "stdout"
        }
      ]
    },
    {
      "metadata": {
        "id": "yeUurRhBJqDt",
        "colab_type": "code",
        "colab": {}
      },
      "cell_type": "code",
      "source": [
        ""
      ],
      "execution_count": 0,
      "outputs": []
    }
  ]
}